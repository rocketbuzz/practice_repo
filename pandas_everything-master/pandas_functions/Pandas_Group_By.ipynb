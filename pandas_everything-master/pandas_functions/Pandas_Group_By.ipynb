{
 "cells": [
  {
   "cell_type": "code",
   "execution_count": 1,
   "metadata": {},
   "outputs": [],
   "source": [
    "import pandas as pd"
   ]
  },
  {
   "cell_type": "markdown",
   "metadata": {},
   "source": [
    "### Pandas Group By\n",
    "We have 3 main methods we use to do group bys. Each has their own advantages and disadvantages. Check out each one and see which works best for your case.\n",
    "\n",
    "We will run through 3 examples:\n",
    "1. Method 1 - Quick and simple group by\n",
    "2. Method 1 - Quick and simple group by with multiple columns\n",
    "3. Method 2 - Different columns with different aggregate functions\n",
    "4. Method 3 - Different columns with different aggregate functions and new column names\n",
    "\n",
    "But first, let's create our DataFrame"
   ]
  },
  {
   "cell_type": "code",
   "execution_count": 17,
   "metadata": {},
   "outputs": [
    {
     "data": {
      "text/html": [
       "<div>\n",
       "<style scoped>\n",
       "    .dataframe tbody tr th:only-of-type {\n",
       "        vertical-align: middle;\n",
       "    }\n",
       "\n",
       "    .dataframe tbody tr th {\n",
       "        vertical-align: top;\n",
       "    }\n",
       "\n",
       "    .dataframe thead th {\n",
       "        text-align: right;\n",
       "    }\n",
       "</style>\n",
       "<table border=\"1\" class=\"dataframe\">\n",
       "  <thead>\n",
       "    <tr style=\"text-align: right;\">\n",
       "      <th></th>\n",
       "      <th>name</th>\n",
       "      <th>Customers</th>\n",
       "      <th>AvgBill</th>\n",
       "    </tr>\n",
       "  </thead>\n",
       "  <tbody>\n",
       "    <tr>\n",
       "      <th>0</th>\n",
       "      <td>Liho Liho</td>\n",
       "      <td>200</td>\n",
       "      <td>45.32</td>\n",
       "    </tr>\n",
       "    <tr>\n",
       "      <th>1</th>\n",
       "      <td>Chambers</td>\n",
       "      <td>350</td>\n",
       "      <td>65.33</td>\n",
       "    </tr>\n",
       "    <tr>\n",
       "      <th>2</th>\n",
       "      <td>The Square</td>\n",
       "      <td>15</td>\n",
       "      <td>12.45</td>\n",
       "    </tr>\n",
       "    <tr>\n",
       "      <th>3</th>\n",
       "      <td>Tosca Cafe</td>\n",
       "      <td>35</td>\n",
       "      <td>180.34</td>\n",
       "    </tr>\n",
       "    <tr>\n",
       "      <th>4</th>\n",
       "      <td>Liho Liho</td>\n",
       "      <td>98</td>\n",
       "      <td>145.42</td>\n",
       "    </tr>\n",
       "    <tr>\n",
       "      <th>5</th>\n",
       "      <td>Chambers</td>\n",
       "      <td>205</td>\n",
       "      <td>25.35</td>\n",
       "    </tr>\n",
       "  </tbody>\n",
       "</table>\n",
       "</div>"
      ],
      "text/plain": [
       "         name  Customers  AvgBill\n",
       "0   Liho Liho        200    45.32\n",
       "1    Chambers        350    65.33\n",
       "2  The Square         15    12.45\n",
       "3  Tosca Cafe         35   180.34\n",
       "4   Liho Liho         98   145.42\n",
       "5    Chambers        205    25.35"
      ]
     },
     "execution_count": 17,
     "metadata": {},
     "output_type": "execute_result"
    }
   ],
   "source": [
    "df = pd.DataFrame([('Liho Liho', 200, 45.32),\n",
    "                  ('Chambers', 350, 65.33),\n",
    "                  ('The Square', 15, 12.45),\n",
    "                  ('Tosca Cafe', 35, 180.34),\n",
    "                  ('Liho Liho', 98, 145.42),\n",
    "                  ('Chambers', 205, 25.35)],\n",
    "           columns=('name', 'Customers', 'AvgBill')\n",
    "                 )\n",
    "df"
   ]
  },
  {
   "cell_type": "markdown",
   "metadata": {},
   "source": [
    "### 1. Method 1 - Quick and simple group by.\n",
    "\n",
    "The simplest group by takes a single 'group by column,' single 'column to aggregate' and finally an aggregate function. A series is returned to you\n",
    "\n",
    "* Group By Column = 'name'\n",
    "* Column To Aggregate = 'AvgBill'\n",
    "* Aggregate function = .sum()"
   ]
  },
  {
   "cell_type": "code",
   "execution_count": 18,
   "metadata": {},
   "outputs": [
    {
     "data": {
      "text/plain": [
       "name\n",
       "Chambers       90.68\n",
       "Liho Liho     190.74\n",
       "The Square     12.45\n",
       "Tosca Cafe    180.34\n",
       "Name: AvgBill, dtype: float64"
      ]
     },
     "execution_count": 18,
     "metadata": {},
     "output_type": "execute_result"
    }
   ],
   "source": [
    "df.groupby('name')['AvgBill'].sum()"
   ]
  },
  {
   "cell_type": "markdown",
   "metadata": {},
   "source": [
    "### 2. Method 1 - Quick and simple group by with multiple columns\n",
    "\n",
    "In order to do an aggregate function on multiple columns, simply pass a list of columns into your 'columns to aggregate.'\n",
    "\n",
    "* Group By Column = 'name'\n",
    "* Column To Aggregate = ['Customers', 'AvgBill']\n",
    "* Aggregate function = .sum()"
   ]
  },
  {
   "cell_type": "code",
   "execution_count": 20,
   "metadata": {},
   "outputs": [
    {
     "data": {
      "text/html": [
       "<div>\n",
       "<style scoped>\n",
       "    .dataframe tbody tr th:only-of-type {\n",
       "        vertical-align: middle;\n",
       "    }\n",
       "\n",
       "    .dataframe tbody tr th {\n",
       "        vertical-align: top;\n",
       "    }\n",
       "\n",
       "    .dataframe thead th {\n",
       "        text-align: right;\n",
       "    }\n",
       "</style>\n",
       "<table border=\"1\" class=\"dataframe\">\n",
       "  <thead>\n",
       "    <tr style=\"text-align: right;\">\n",
       "      <th></th>\n",
       "      <th>Customers</th>\n",
       "      <th>AvgBill</th>\n",
       "    </tr>\n",
       "    <tr>\n",
       "      <th>name</th>\n",
       "      <th></th>\n",
       "      <th></th>\n",
       "    </tr>\n",
       "  </thead>\n",
       "  <tbody>\n",
       "    <tr>\n",
       "      <th>Chambers</th>\n",
       "      <td>555</td>\n",
       "      <td>90.68</td>\n",
       "    </tr>\n",
       "    <tr>\n",
       "      <th>Liho Liho</th>\n",
       "      <td>298</td>\n",
       "      <td>190.74</td>\n",
       "    </tr>\n",
       "    <tr>\n",
       "      <th>The Square</th>\n",
       "      <td>15</td>\n",
       "      <td>12.45</td>\n",
       "    </tr>\n",
       "    <tr>\n",
       "      <th>Tosca Cafe</th>\n",
       "      <td>35</td>\n",
       "      <td>180.34</td>\n",
       "    </tr>\n",
       "  </tbody>\n",
       "</table>\n",
       "</div>"
      ],
      "text/plain": [
       "            Customers  AvgBill\n",
       "name                          \n",
       "Chambers          555    90.68\n",
       "Liho Liho         298   190.74\n",
       "The Square         15    12.45\n",
       "Tosca Cafe         35   180.34"
      ]
     },
     "execution_count": 20,
     "metadata": {},
     "output_type": "execute_result"
    }
   ],
   "source": [
    "df.groupby('name')[['Customers', 'AvgBill']].sum()"
   ]
  },
  {
   "cell_type": "markdown",
   "metadata": {},
   "source": [
    "### 3. Method 2 - Different columns with different aggregate functions\n",
    "\n",
    "In order to apply different aggregate functions to different columns, you'll need to use the .agg() function. This helpful function allows you to specify each column and the specific function you'd like to apply to it.\n",
    "\n",
    "You'll need to pass a *dictionary* to your .agg() function. Keys=Column name you'd like to aggregate, values=aggregate function.\n",
    "\n",
    "Here I'm taking the MAX number from the Customers column and the mean of the AvgBill Column"
   ]
  },
  {
   "cell_type": "code",
   "execution_count": 26,
   "metadata": {},
   "outputs": [
    {
     "data": {
      "text/html": [
       "<div>\n",
       "<style scoped>\n",
       "    .dataframe tbody tr th:only-of-type {\n",
       "        vertical-align: middle;\n",
       "    }\n",
       "\n",
       "    .dataframe tbody tr th {\n",
       "        vertical-align: top;\n",
       "    }\n",
       "\n",
       "    .dataframe thead th {\n",
       "        text-align: right;\n",
       "    }\n",
       "</style>\n",
       "<table border=\"1\" class=\"dataframe\">\n",
       "  <thead>\n",
       "    <tr style=\"text-align: right;\">\n",
       "      <th></th>\n",
       "      <th>Customers</th>\n",
       "      <th>AvgBill</th>\n",
       "    </tr>\n",
       "    <tr>\n",
       "      <th>name</th>\n",
       "      <th></th>\n",
       "      <th></th>\n",
       "    </tr>\n",
       "  </thead>\n",
       "  <tbody>\n",
       "    <tr>\n",
       "      <th>Chambers</th>\n",
       "      <td>350</td>\n",
       "      <td>45.34</td>\n",
       "    </tr>\n",
       "    <tr>\n",
       "      <th>Liho Liho</th>\n",
       "      <td>200</td>\n",
       "      <td>95.37</td>\n",
       "    </tr>\n",
       "    <tr>\n",
       "      <th>The Square</th>\n",
       "      <td>15</td>\n",
       "      <td>12.45</td>\n",
       "    </tr>\n",
       "    <tr>\n",
       "      <th>Tosca Cafe</th>\n",
       "      <td>35</td>\n",
       "      <td>180.34</td>\n",
       "    </tr>\n",
       "  </tbody>\n",
       "</table>\n",
       "</div>"
      ],
      "text/plain": [
       "            Customers  AvgBill\n",
       "name                          \n",
       "Chambers          350    45.34\n",
       "Liho Liho         200    95.37\n",
       "The Square         15    12.45\n",
       "Tosca Cafe         35   180.34"
      ]
     },
     "execution_count": 26,
     "metadata": {},
     "output_type": "execute_result"
    }
   ],
   "source": [
    "df.groupby('name').agg({\n",
    "    'Customers' : max,\n",
    "    'AvgBill' : pd.Series.mean\n",
    "})"
   ]
  },
  {
   "cell_type": "markdown",
   "metadata": {},
   "source": [
    "### 4. Method 3 - Different columns with different aggregate functions and new column names\n",
    "\n",
    "This final method, although long, is nice because you can rename the output columns.\n",
    "\n",
    "Example for the first columns\n",
    "**New column name** = max_customers (Note: I agree it's weird that a name of something is pulled from a variable vs a string)\n",
    "**column** = Column to aggregate: Customers\n",
    "**aggfunc** = The agg function you'd like to apply - max"
   ]
  },
  {
   "cell_type": "code",
   "execution_count": 30,
   "metadata": {},
   "outputs": [
    {
     "data": {
      "text/html": [
       "<div>\n",
       "<style scoped>\n",
       "    .dataframe tbody tr th:only-of-type {\n",
       "        vertical-align: middle;\n",
       "    }\n",
       "\n",
       "    .dataframe tbody tr th {\n",
       "        vertical-align: top;\n",
       "    }\n",
       "\n",
       "    .dataframe thead th {\n",
       "        text-align: right;\n",
       "    }\n",
       "</style>\n",
       "<table border=\"1\" class=\"dataframe\">\n",
       "  <thead>\n",
       "    <tr style=\"text-align: right;\">\n",
       "      <th></th>\n",
       "      <th>max_customers</th>\n",
       "      <th>mean_avg_bill</th>\n",
       "    </tr>\n",
       "    <tr>\n",
       "      <th>name</th>\n",
       "      <th></th>\n",
       "      <th></th>\n",
       "    </tr>\n",
       "  </thead>\n",
       "  <tbody>\n",
       "    <tr>\n",
       "      <th>Chambers</th>\n",
       "      <td>350</td>\n",
       "      <td>45.34</td>\n",
       "    </tr>\n",
       "    <tr>\n",
       "      <th>Liho Liho</th>\n",
       "      <td>200</td>\n",
       "      <td>95.37</td>\n",
       "    </tr>\n",
       "    <tr>\n",
       "      <th>The Square</th>\n",
       "      <td>15</td>\n",
       "      <td>12.45</td>\n",
       "    </tr>\n",
       "    <tr>\n",
       "      <th>Tosca Cafe</th>\n",
       "      <td>35</td>\n",
       "      <td>180.34</td>\n",
       "    </tr>\n",
       "  </tbody>\n",
       "</table>\n",
       "</div>"
      ],
      "text/plain": [
       "            max_customers  mean_avg_bill\n",
       "name                                    \n",
       "Chambers              350          45.34\n",
       "Liho Liho             200          95.37\n",
       "The Square             15          12.45\n",
       "Tosca Cafe             35         180.34"
      ]
     },
     "execution_count": 30,
     "metadata": {},
     "output_type": "execute_result"
    }
   ],
   "source": [
    "df.groupby('name').agg(\n",
    "    max_customers = pd.NamedAgg(column='Customers', aggfunc=max),\n",
    "    mean_avg_bill = pd.NamedAgg(column='AvgBill', aggfunc=pd.Series.mean),\n",
    ")"
   ]
  }
 ],
 "metadata": {
  "kernelspec": {
   "display_name": "Python 3",
   "language": "python",
   "name": "python3"
  },
  "language_info": {
   "codemirror_mode": {
    "name": "ipython",
    "version": 3
   },
   "file_extension": ".py",
   "mimetype": "text/x-python",
   "name": "python",
   "nbconvert_exporter": "python",
   "pygments_lexer": "ipython3",
   "version": "3.7.6"
  }
 },
 "nbformat": 4,
 "nbformat_minor": 4
}
