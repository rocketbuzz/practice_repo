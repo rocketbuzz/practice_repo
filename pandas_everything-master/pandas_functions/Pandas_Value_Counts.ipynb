{
 "cells": [
  {
   "cell_type": "code",
   "execution_count": 1,
   "metadata": {},
   "outputs": [],
   "source": [
    "import pandas as pd"
   ]
  },
  {
   "cell_type": "markdown",
   "metadata": {},
   "source": [
    "### Pandas Value Counts\n",
    "\n",
    "Pandas Value Counts will count the frequency of the unique values in your series. Or simply, \"count how many each value occurs.\"\n",
    "\n",
    "We will run through 3 examples:\n",
    "1. Counting frequency of unique values in a series\n",
    "2. Counting *relative* frequency of unique values in a series (normalizing)\n",
    "3. Counting a continuous series using bins.\n",
    "\n",
    "First, let's create our DataFrame"
   ]
  },
  {
   "cell_type": "code",
   "execution_count": 2,
   "metadata": {},
   "outputs": [
    {
     "data": {
      "text/html": [
       "<div>\n",
       "<style scoped>\n",
       "    .dataframe tbody tr th:only-of-type {\n",
       "        vertical-align: middle;\n",
       "    }\n",
       "\n",
       "    .dataframe tbody tr th {\n",
       "        vertical-align: top;\n",
       "    }\n",
       "\n",
       "    .dataframe thead th {\n",
       "        text-align: right;\n",
       "    }\n",
       "</style>\n",
       "<table border=\"1\" class=\"dataframe\">\n",
       "  <thead>\n",
       "    <tr style=\"text-align: right;\">\n",
       "      <th></th>\n",
       "      <th>name</th>\n",
       "      <th>type</th>\n",
       "      <th>AvgBill</th>\n",
       "    </tr>\n",
       "  </thead>\n",
       "  <tbody>\n",
       "    <tr>\n",
       "      <th>0</th>\n",
       "      <td>Foreign Cinema</td>\n",
       "      <td>Restaurant</td>\n",
       "      <td>289.0</td>\n",
       "    </tr>\n",
       "    <tr>\n",
       "      <th>1</th>\n",
       "      <td>Liho Liho</td>\n",
       "      <td>Restaurant</td>\n",
       "      <td>224.0</td>\n",
       "    </tr>\n",
       "    <tr>\n",
       "      <th>2</th>\n",
       "      <td>500 Club</td>\n",
       "      <td>bar</td>\n",
       "      <td>80.5</td>\n",
       "    </tr>\n",
       "    <tr>\n",
       "      <th>3</th>\n",
       "      <td>The Square</td>\n",
       "      <td>bar</td>\n",
       "      <td>25.3</td>\n",
       "    </tr>\n",
       "    <tr>\n",
       "      <th>4</th>\n",
       "      <td>Liho Liho</td>\n",
       "      <td>Restaurant</td>\n",
       "      <td>124.0</td>\n",
       "    </tr>\n",
       "    <tr>\n",
       "      <th>5</th>\n",
       "      <td>The Square</td>\n",
       "      <td>bar</td>\n",
       "      <td>53.3</td>\n",
       "    </tr>\n",
       "    <tr>\n",
       "      <th>6</th>\n",
       "      <td>Liho Liho</td>\n",
       "      <td>Restaurant</td>\n",
       "      <td>324.0</td>\n",
       "    </tr>\n",
       "    <tr>\n",
       "      <th>7</th>\n",
       "      <td>500 Club</td>\n",
       "      <td>bar</td>\n",
       "      <td>40.5</td>\n",
       "    </tr>\n",
       "    <tr>\n",
       "      <th>8</th>\n",
       "      <td>Salzburg</td>\n",
       "      <td>bar</td>\n",
       "      <td>123.5</td>\n",
       "    </tr>\n",
       "  </tbody>\n",
       "</table>\n",
       "</div>"
      ],
      "text/plain": [
       "             name        type  AvgBill\n",
       "0  Foreign Cinema  Restaurant    289.0\n",
       "1       Liho Liho  Restaurant    224.0\n",
       "2        500 Club         bar     80.5\n",
       "3      The Square         bar     25.3\n",
       "4       Liho Liho  Restaurant    124.0\n",
       "5      The Square         bar     53.3\n",
       "6       Liho Liho  Restaurant    324.0\n",
       "7        500 Club         bar     40.5\n",
       "8        Salzburg         bar    123.5"
      ]
     },
     "execution_count": 2,
     "metadata": {},
     "output_type": "execute_result"
    }
   ],
   "source": [
    "df = pd.DataFrame([('Foreign Cinema', 'Restaurant', 289.0),\n",
    "                   ('Liho Liho', 'Restaurant', 224.0),\n",
    "                   ('500 Club', 'bar', 80.5),\n",
    "                   ('The Square', 'bar', 25.30),\n",
    "                   ('Liho Liho', 'Restaurant', 124.0),\n",
    "                   ('The Square', 'bar', 53.30),\n",
    "                   ('Liho Liho', 'Restaurant', 324.0),\n",
    "                   ('500 Club', 'bar', 40.5),\n",
    "                   ('Salzburg', 'bar', 123.5)],\n",
    "           columns=('name', 'type', 'AvgBill')\n",
    "                 )\n",
    "df"
   ]
  },
  {
   "cell_type": "markdown",
   "metadata": {},
   "source": [
    "### Counting frequency of unique values in a series\n",
    "Then let's call value_counts on our \"name\" column. This will look at the distinct values within that column, and count how many times they appear."
   ]
  },
  {
   "cell_type": "code",
   "execution_count": 3,
   "metadata": {},
   "outputs": [
    {
     "data": {
      "text/plain": [
       "Liho Liho         3\n",
       "500 Club          2\n",
       "The Square        2\n",
       "Foreign Cinema    1\n",
       "Salzburg          1\n",
       "Name: name, dtype: int64"
      ]
     },
     "execution_count": 3,
     "metadata": {},
     "output_type": "execute_result"
    }
   ],
   "source": [
    "df['name'].value_counts()"
   ]
  },
  {
   "cell_type": "markdown",
   "metadata": {},
   "source": [
    "We could also have the series returned in reverse order (lowest values first) by setting ascending=True. Remember, ascending means to go up, so you'll start low and go up to the higest values"
   ]
  },
  {
   "cell_type": "code",
   "execution_count": 4,
   "metadata": {
    "scrolled": true
   },
   "outputs": [
    {
     "data": {
      "text/plain": [
       "Salzburg          1\n",
       "Foreign Cinema    1\n",
       "The Square        2\n",
       "500 Club          2\n",
       "Liho Liho         3\n",
       "Name: name, dtype: int64"
      ]
     },
     "execution_count": 4,
     "metadata": {},
     "output_type": "execute_result"
    }
   ],
   "source": [
    "df['name'].value_counts(ascending=True)"
   ]
  },
  {
   "cell_type": "markdown",
   "metadata": {},
   "source": [
    "### Counting relative frequency of unique values in a series (normalizing)\n",
    "Say you didn't want to get the count of each unique value, but rather see how frequent each value appears compared to the *whole series.* In order to do this, you'll set normalize=True"
   ]
  },
  {
   "cell_type": "code",
   "execution_count": 5,
   "metadata": {},
   "outputs": [
    {
     "data": {
      "text/plain": [
       "Liho Liho         0.333333\n",
       "500 Club          0.222222\n",
       "The Square        0.222222\n",
       "Foreign Cinema    0.111111\n",
       "Salzburg          0.111111\n",
       "Name: name, dtype: float64"
      ]
     },
     "execution_count": 5,
     "metadata": {},
     "output_type": "execute_result"
    }
   ],
   "source": [
    "df['name'].value_counts(normalize=True)"
   ]
  },
  {
   "cell_type": "markdown",
   "metadata": {},
   "source": [
    "Let's break this down quickly. There are a total of 9 items in the Series (run \"len(df)\" if you don't believe me.)\n",
    "\n",
    "From value_counts above, we saw that \"Liho Liho\" appeared 3 times. Since it appears 3 times out of 9 rows, we can do 3 / 9 which equals .333. This is the relative frequency of \"Liho Liho\" in this series"
   ]
  },
  {
   "cell_type": "markdown",
   "metadata": {},
   "source": [
    "### Counting relative frequency of unique values in a series (normalizing)\n",
    "\n",
    "Now let's say we have a longer series of continous values. Think of a continous values as a list of numbers that don't serve as labels. For example: [.2, ,.23, .43, .85, .13]. Say we thought that .2 and .23 were close enough and wanted to count them together. Unfortunately, if we did value_counts regularly, we would count .2 and .23 as separate values.\n",
    "\n",
    "If you want to group them together, this is where *bins* comes in. In order to create a list of random continuous numbers, I'm going to use numpy"
   ]
  },
  {
   "cell_type": "code",
   "execution_count": 14,
   "metadata": {},
   "outputs": [
    {
     "data": {
      "text/html": [
       "<div>\n",
       "<style scoped>\n",
       "    .dataframe tbody tr th:only-of-type {\n",
       "        vertical-align: middle;\n",
       "    }\n",
       "\n",
       "    .dataframe tbody tr th {\n",
       "        vertical-align: top;\n",
       "    }\n",
       "\n",
       "    .dataframe thead th {\n",
       "        text-align: right;\n",
       "    }\n",
       "</style>\n",
       "<table border=\"1\" class=\"dataframe\">\n",
       "  <thead>\n",
       "    <tr style=\"text-align: right;\">\n",
       "      <th></th>\n",
       "      <th>rand_num</th>\n",
       "    </tr>\n",
       "  </thead>\n",
       "  <tbody>\n",
       "    <tr>\n",
       "      <th>0</th>\n",
       "      <td>0.374540</td>\n",
       "    </tr>\n",
       "    <tr>\n",
       "      <th>1</th>\n",
       "      <td>0.950714</td>\n",
       "    </tr>\n",
       "    <tr>\n",
       "      <th>2</th>\n",
       "      <td>0.731994</td>\n",
       "    </tr>\n",
       "    <tr>\n",
       "      <th>3</th>\n",
       "      <td>0.598658</td>\n",
       "    </tr>\n",
       "    <tr>\n",
       "      <th>4</th>\n",
       "      <td>0.156019</td>\n",
       "    </tr>\n",
       "    <tr>\n",
       "      <th>5</th>\n",
       "      <td>0.155995</td>\n",
       "    </tr>\n",
       "    <tr>\n",
       "      <th>6</th>\n",
       "      <td>0.058084</td>\n",
       "    </tr>\n",
       "    <tr>\n",
       "      <th>7</th>\n",
       "      <td>0.866176</td>\n",
       "    </tr>\n",
       "    <tr>\n",
       "      <th>8</th>\n",
       "      <td>0.601115</td>\n",
       "    </tr>\n",
       "    <tr>\n",
       "      <th>9</th>\n",
       "      <td>0.708073</td>\n",
       "    </tr>\n",
       "  </tbody>\n",
       "</table>\n",
       "</div>"
      ],
      "text/plain": [
       "   rand_num\n",
       "0  0.374540\n",
       "1  0.950714\n",
       "2  0.731994\n",
       "3  0.598658\n",
       "4  0.156019\n",
       "5  0.155995\n",
       "6  0.058084\n",
       "7  0.866176\n",
       "8  0.601115\n",
       "9  0.708073"
      ]
     },
     "execution_count": 14,
     "metadata": {},
     "output_type": "execute_result"
    }
   ],
   "source": [
    "import numpy as np\n",
    "np.random.seed(seed=42) # To make sure the same values appear each time\n",
    "\n",
    "random_numbers = np.random.random(size=(10,1), )\n",
    "random_numbers = pd.DataFrame(random_numbers, columns=['rand_num'])\n",
    "random_numbers"
   ]
  },
  {
   "cell_type": "markdown",
   "metadata": {},
   "source": [
    "Now I want split my data into 3 bins and count how many times values appear in those bins."
   ]
  },
  {
   "cell_type": "code",
   "execution_count": 15,
   "metadata": {},
   "outputs": [
    {
     "data": {
      "text/plain": [
       "(0.653, 0.951]     4\n",
       "(0.356, 0.653]     3\n",
       "(0.0562, 0.356]    3\n",
       "Name: rand_num, dtype: int64"
      ]
     },
     "execution_count": 15,
     "metadata": {},
     "output_type": "execute_result"
    }
   ],
   "source": [
    "random_numbers['rand_num'].value_counts(bins=3)"
   ]
  },
  {
   "cell_type": "markdown",
   "metadata": {},
   "source": [
    "In this case, bins is returning buckets that are evenly spaced. But what if you wanted to create your own buckets? No problem, just pass a list of values that describe your buckets"
   ]
  },
  {
   "cell_type": "code",
   "execution_count": 17,
   "metadata": {},
   "outputs": [
    {
     "data": {
      "text/plain": [
       "(0.6, 1.0]       5\n",
       "(-0.001, 0.2]    3\n",
       "(0.2, 0.6]       2\n",
       "Name: rand_num, dtype: int64"
      ]
     },
     "execution_count": 17,
     "metadata": {},
     "output_type": "execute_result"
    }
   ],
   "source": [
    "random_numbers['rand_num'].value_counts(bins=[0,.2,.6, 1])"
   ]
  }
 ],
 "metadata": {
  "kernelspec": {
   "display_name": "Python 3",
   "language": "python",
   "name": "python3"
  },
  "language_info": {
   "codemirror_mode": {
    "name": "ipython",
    "version": 3
   },
   "file_extension": ".py",
   "mimetype": "text/x-python",
   "name": "python",
   "nbconvert_exporter": "python",
   "pygments_lexer": "ipython3",
   "version": "3.7.6"
  }
 },
 "nbformat": 4,
 "nbformat_minor": 4
}
