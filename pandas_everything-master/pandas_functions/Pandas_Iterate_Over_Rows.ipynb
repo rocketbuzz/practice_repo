{
 "cells": [
  {
   "cell_type": "code",
   "execution_count": 47,
   "metadata": {},
   "outputs": [],
   "source": [
    "import pandas as pd"
   ]
  },
  {
   "cell_type": "markdown",
   "metadata": {},
   "source": [
    "### Pandas Iterate Over Rows\n",
    "So you want to iterate over your pandas DataFrame rows? We'll you think you want to.\n",
    "\n",
    "Let's run through 5 examples (in speed order):\n",
    "1. DataFrame.apply()\n",
    "2. DataFrame.iterrows()\n",
    "3. DataFrame.itertuples()\n",
    "4. Concert to DataFrame to Dictionary\n",
    "5. Last resort - DataFrame.iloc\n",
    "\n",
    "First, let's create a DataFrame"
   ]
  },
  {
   "cell_type": "code",
   "execution_count": 48,
   "metadata": {},
   "outputs": [
    {
     "data": {
      "text/html": [
       "<div>\n",
       "<style scoped>\n",
       "    .dataframe tbody tr th:only-of-type {\n",
       "        vertical-align: middle;\n",
       "    }\n",
       "\n",
       "    .dataframe tbody tr th {\n",
       "        vertical-align: top;\n",
       "    }\n",
       "\n",
       "    .dataframe thead th {\n",
       "        text-align: right;\n",
       "    }\n",
       "</style>\n",
       "<table border=\"1\" class=\"dataframe\">\n",
       "  <thead>\n",
       "    <tr style=\"text-align: right;\">\n",
       "      <th></th>\n",
       "      <th>name</th>\n",
       "      <th>type</th>\n",
       "      <th>AvgBill</th>\n",
       "    </tr>\n",
       "  </thead>\n",
       "  <tbody>\n",
       "    <tr>\n",
       "      <th>0</th>\n",
       "      <td>Foreign Cinema</td>\n",
       "      <td>Restaurant</td>\n",
       "      <td>289.00</td>\n",
       "    </tr>\n",
       "    <tr>\n",
       "      <th>1</th>\n",
       "      <td>Liho Liho</td>\n",
       "      <td>Restaurant</td>\n",
       "      <td>224.00</td>\n",
       "    </tr>\n",
       "    <tr>\n",
       "      <th>2</th>\n",
       "      <td>500 Club</td>\n",
       "      <td>bar</td>\n",
       "      <td>80.50</td>\n",
       "    </tr>\n",
       "    <tr>\n",
       "      <th>3</th>\n",
       "      <td>The Square</td>\n",
       "      <td>bar</td>\n",
       "      <td>25.30</td>\n",
       "    </tr>\n",
       "    <tr>\n",
       "      <th>4</th>\n",
       "      <td>The Lighthouse</td>\n",
       "      <td>bar</td>\n",
       "      <td>15.30</td>\n",
       "    </tr>\n",
       "    <tr>\n",
       "      <th>5</th>\n",
       "      <td>Al's Place</td>\n",
       "      <td>Restaurant</td>\n",
       "      <td>456.53</td>\n",
       "    </tr>\n",
       "  </tbody>\n",
       "</table>\n",
       "</div>"
      ],
      "text/plain": [
       "             name        type  AvgBill\n",
       "0  Foreign Cinema  Restaurant   289.00\n",
       "1       Liho Liho  Restaurant   224.00\n",
       "2        500 Club         bar    80.50\n",
       "3      The Square         bar    25.30\n",
       "4  The Lighthouse         bar    15.30\n",
       "5      Al's Place  Restaurant   456.53"
      ]
     },
     "execution_count": 48,
     "metadata": {},
     "output_type": "execute_result"
    }
   ],
   "source": [
    "df = pd.DataFrame([('Foreign Cinema', 'Restaurant', 289.0),\n",
    "                   ('Liho Liho', 'Restaurant', 224.0),\n",
    "                   ('500 Club', 'bar', 80.5),\n",
    "                   ('The Square', 'bar', 25.30),\n",
    "                   ('The Lighthouse', 'bar', 15.30),\n",
    "                   (\"Al's Place\", 'Restaurant', 456.53)],\n",
    "           columns=('name', 'type', 'AvgBill')\n",
    "                 )\n",
    "df"
   ]
  },
  {
   "cell_type": "markdown",
   "metadata": {},
   "source": [
    "### 1. DataFrame.apply()\n",
    "We are first going to use pandas apply. This will run through each row and apply a function for us. I'll use a quick lambda function for this example. Make sure you're axis=1 to go through rows."
   ]
  },
  {
   "cell_type": "code",
   "execution_count": 55,
   "metadata": {},
   "outputs": [
    {
     "name": "stdout",
     "output_type": "stream",
     "text": [
      "Foreign Cinema - 289.0\n",
      "Liho Liho - 224.0\n",
      "500 Club - 80.5\n",
      "The Square - 25.3\n",
      "The Lighthouse - 15.3\n",
      "Al's Place - 456.53\n"
     ]
    },
    {
     "data": {
      "text/plain": [
       "0    None\n",
       "1    None\n",
       "2    None\n",
       "3    None\n",
       "4    None\n",
       "5    None\n",
       "dtype: object"
      ]
     },
     "execution_count": 55,
     "metadata": {},
     "output_type": "execute_result"
    }
   ],
   "source": [
    "# Printing Name and AvgBill. In this case, \"x\" is a series with index of column names\n",
    "df.apply(lambda x: print (\"{} - {}\".format(x['name'], x['AvgBill'])), axis=1)"
   ]
  },
  {
   "cell_type": "markdown",
   "metadata": {},
   "source": [
    "### 2. DataFrame.iterrows()\n",
    "Next we are going to head over the .iter-land. We are starting with iterrows()."
   ]
  },
  {
   "cell_type": "code",
   "execution_count": 50,
   "metadata": {},
   "outputs": [
    {
     "name": "stdout",
     "output_type": "stream",
     "text": [
      "Index: 0\n",
      "Foreign Cinema - 289.0\n",
      "\n",
      "Index: 1\n",
      "Liho Liho - 224.0\n",
      "\n",
      "Index: 2\n",
      "500 Club - 80.5\n",
      "\n",
      "Index: 3\n",
      "The Square - 25.3\n",
      "\n",
      "Index: 4\n",
      "The Lighthouse - 15.3\n",
      "\n",
      "Index: 5\n",
      "Al's Place - 456.53\n",
      "\n"
     ]
    }
   ],
   "source": [
    "for index, contents in df.iterrows():\n",
    "    print (\"Index: {}\".format(index))\n",
    "    print (\"{} - {}\".format(contents['name'], contents['AvgBill']))\n",
    "    print ()"
   ]
  },
  {
   "cell_type": "markdown",
   "metadata": {},
   "source": [
    "### 3. DataFrame.itertuples()\n",
    "Next head over to itertupes. This will return a named tuple - a regular tuple, but you're able to reference data points by name."
   ]
  },
  {
   "cell_type": "code",
   "execution_count": 51,
   "metadata": {},
   "outputs": [
    {
     "name": "stdout",
     "output_type": "stream",
     "text": [
      "Pandas(Index=0, name='Foreign Cinema', type='Restaurant', AvgBill=289.0)\n",
      "Foreign Cinema\n",
      "\n",
      "Pandas(Index=1, name='Liho Liho', type='Restaurant', AvgBill=224.0)\n",
      "Liho Liho\n",
      "\n",
      "Pandas(Index=2, name='500 Club', type='bar', AvgBill=80.5)\n",
      "500 Club\n",
      "\n",
      "Pandas(Index=3, name='The Square', type='bar', AvgBill=25.3)\n",
      "The Square\n",
      "\n",
      "Pandas(Index=4, name='The Lighthouse', type='bar', AvgBill=15.3)\n",
      "The Lighthouse\n",
      "\n",
      "Pandas(Index=5, name=\"Al's Place\", type='Restaurant', AvgBill=456.53)\n",
      "Al's Place\n",
      "\n"
     ]
    }
   ],
   "source": [
    "for row in df.itertuples():\n",
    "    print (row)\n",
    "    print (row.name)\n",
    "    print ()\n",
    "    "
   ]
  },
  {
   "cell_type": "markdown",
   "metadata": {},
   "source": [
    "### 4. Concert to DataFrame to Dictionary\n",
    "Now we are getting down into the desperate zone. If you really wanted to (without much reason), you can convert your DataFrame to a dictionary first and then iterate through."
   ]
  },
  {
   "cell_type": "code",
   "execution_count": 52,
   "metadata": {},
   "outputs": [
    {
     "data": {
      "text/plain": [
       "{0: {'name': 'Foreign Cinema', 'type': 'Restaurant', 'AvgBill': 289.0},\n",
       " 1: {'name': 'Liho Liho', 'type': 'Restaurant', 'AvgBill': 224.0},\n",
       " 2: {'name': '500 Club', 'type': 'bar', 'AvgBill': 80.5},\n",
       " 3: {'name': 'The Square', 'type': 'bar', 'AvgBill': 25.3},\n",
       " 4: {'name': 'The Lighthouse', 'type': 'bar', 'AvgBill': 15.3},\n",
       " 5: {'name': \"Al's Place\", 'type': 'Restaurant', 'AvgBill': 456.53}}"
      ]
     },
     "execution_count": 52,
     "metadata": {},
     "output_type": "execute_result"
    }
   ],
   "source": [
    "df_dict = df.to_dict(orient='index')\n",
    "df_dict"
   ]
  },
  {
   "cell_type": "code",
   "execution_count": 53,
   "metadata": {},
   "outputs": [
    {
     "name": "stdout",
     "output_type": "stream",
     "text": [
      "0\n",
      "{'name': 'Foreign Cinema', 'type': 'Restaurant', 'AvgBill': 289.0}\n",
      "Foreign Cinema\n",
      "\n",
      "1\n",
      "{'name': 'Liho Liho', 'type': 'Restaurant', 'AvgBill': 224.0}\n",
      "Liho Liho\n",
      "\n",
      "2\n",
      "{'name': '500 Club', 'type': 'bar', 'AvgBill': 80.5}\n",
      "500 Club\n",
      "\n",
      "3\n",
      "{'name': 'The Square', 'type': 'bar', 'AvgBill': 25.3}\n",
      "The Square\n",
      "\n",
      "4\n",
      "{'name': 'The Lighthouse', 'type': 'bar', 'AvgBill': 15.3}\n",
      "The Lighthouse\n",
      "\n",
      "5\n",
      "{'name': \"Al's Place\", 'type': 'Restaurant', 'AvgBill': 456.53}\n",
      "Al's Place\n",
      "\n"
     ]
    }
   ],
   "source": [
    "for key in df_dict:\n",
    "    print (key)\n",
    "    print (df_dict[key])\n",
    "    print (df_dict[key]['name'])\n",
    "    print ()"
   ]
  },
  {
   "cell_type": "markdown",
   "metadata": {},
   "source": [
    "### 5. Last resort - DataFrame.iloc\n",
    "I didn't even want to put this one on here. I don't want to give you ideas. This method is crude and slow. I bet you $5 of AWS credit there is a faster way.\n",
    "\n",
    "As a last resort, you can iterate through your DataFrame by iterating through a list, and then calling each of your DataFrame rows individually."
   ]
  },
  {
   "cell_type": "code",
   "execution_count": 54,
   "metadata": {},
   "outputs": [
    {
     "name": "stdout",
     "output_type": "stream",
     "text": [
      "name       Foreign Cinema\n",
      "type           Restaurant\n",
      "AvgBill               289\n",
      "Name: 0, dtype: object\n",
      "\n",
      "Name: Foreign Cinema\n",
      "\n",
      "\n",
      "name        Liho Liho\n",
      "type       Restaurant\n",
      "AvgBill           224\n",
      "Name: 1, dtype: object\n",
      "\n",
      "Name: Liho Liho\n",
      "\n",
      "\n",
      "name       500 Club\n",
      "type            bar\n",
      "AvgBill        80.5\n",
      "Name: 2, dtype: object\n",
      "\n",
      "Name: 500 Club\n",
      "\n",
      "\n",
      "name       The Square\n",
      "type              bar\n",
      "AvgBill          25.3\n",
      "Name: 3, dtype: object\n",
      "\n",
      "Name: The Square\n",
      "\n",
      "\n",
      "name       The Lighthouse\n",
      "type                  bar\n",
      "AvgBill              15.3\n",
      "Name: 4, dtype: object\n",
      "\n",
      "Name: The Lighthouse\n",
      "\n",
      "\n",
      "name       Al's Place\n",
      "type       Restaurant\n",
      "AvgBill        456.53\n",
      "Name: 5, dtype: object\n",
      "\n",
      "Name: Al's Place\n",
      "\n",
      "\n"
     ]
    }
   ],
   "source": [
    "for i in range(len(df)):\n",
    "    print (df.iloc[i])\n",
    "    print ()\n",
    "    print (\"Name: {}\".format(df.iloc[i]['name']))\n",
    "    print (\"\\n\")"
   ]
  }
 ],
 "metadata": {
  "kernelspec": {
   "display_name": "Python 3",
   "language": "python",
   "name": "python3"
  },
  "language_info": {
   "codemirror_mode": {
    "name": "ipython",
    "version": 3
   },
   "file_extension": ".py",
   "mimetype": "text/x-python",
   "name": "python",
   "nbconvert_exporter": "python",
   "pygments_lexer": "ipython3",
   "version": "3.7.6"
  }
 },
 "nbformat": 4,
 "nbformat_minor": 4
}
