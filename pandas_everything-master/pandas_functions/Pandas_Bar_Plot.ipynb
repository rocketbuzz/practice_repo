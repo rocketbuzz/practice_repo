{
 "cells": [
  {
   "cell_type": "code",
   "execution_count": 1,
   "metadata": {},
   "outputs": [],
   "source": [
    "import pandas as pd"
   ]
  },
  {
   "cell_type": "markdown",
   "metadata": {},
   "source": [
    "### Pandas Bar Plot\n",
    "\n",
    "You can create a bar plot directly from your dataframe. Let's check out some examples:\n",
    "\n",
    "1. Simple Bar Plot\n",
    "2. Comparing two groups together\n",
    "3. Stacked Bar Plot\n",
    "4. Using Matplotlib format parameters\n",
    "\n",
    "First, let's create our DataFrame"
   ]
  },
  {
   "cell_type": "code",
   "execution_count": 25,
   "metadata": {},
   "outputs": [
    {
     "data": {
      "text/html": [
       "<div>\n",
       "<style scoped>\n",
       "    .dataframe tbody tr th:only-of-type {\n",
       "        vertical-align: middle;\n",
       "    }\n",
       "\n",
       "    .dataframe tbody tr th {\n",
       "        vertical-align: top;\n",
       "    }\n",
       "\n",
       "    .dataframe thead th {\n",
       "        text-align: right;\n",
       "    }\n",
       "</style>\n",
       "<table border=\"1\" class=\"dataframe\">\n",
       "  <thead>\n",
       "    <tr style=\"text-align: right;\">\n",
       "      <th></th>\n",
       "      <th>name</th>\n",
       "      <th>num_customers</th>\n",
       "      <th>AvgBill</th>\n",
       "    </tr>\n",
       "  </thead>\n",
       "  <tbody>\n",
       "    <tr>\n",
       "      <th>0</th>\n",
       "      <td>Foreign Cinema</td>\n",
       "      <td>50</td>\n",
       "      <td>289.0</td>\n",
       "    </tr>\n",
       "    <tr>\n",
       "      <th>1</th>\n",
       "      <td>Liho Liho</td>\n",
       "      <td>45</td>\n",
       "      <td>224.0</td>\n",
       "    </tr>\n",
       "    <tr>\n",
       "      <th>2</th>\n",
       "      <td>500 Club</td>\n",
       "      <td>102</td>\n",
       "      <td>80.5</td>\n",
       "    </tr>\n",
       "    <tr>\n",
       "      <th>3</th>\n",
       "      <td>The Square</td>\n",
       "      <td>65</td>\n",
       "      <td>25.3</td>\n",
       "    </tr>\n",
       "  </tbody>\n",
       "</table>\n",
       "</div>"
      ],
      "text/plain": [
       "             name  num_customers  AvgBill\n",
       "0  Foreign Cinema             50    289.0\n",
       "1       Liho Liho             45    224.0\n",
       "2        500 Club            102     80.5\n",
       "3      The Square             65     25.3"
      ]
     },
     "execution_count": 25,
     "metadata": {},
     "output_type": "execute_result"
    }
   ],
   "source": [
    "df = pd.DataFrame([('Foreign Cinema', 50, 289.0),\n",
    "                   ('Liho Liho', 45, 224.0),\n",
    "                   ('500 Club', 102, 80.5),\n",
    "                   ('The Square', 65, 25.30)],\n",
    "           columns=('name', 'num_customers', 'AvgBill')\n",
    "                 )\n",
    "df"
   ]
  },
  {
   "cell_type": "markdown",
   "metadata": {},
   "source": [
    "### 1. Simple Bar Plot\n",
    "\n",
    "In order to create a bar plot, you need to pass a X and Y values. X will be your categories, or how you want to separate your bars. Y will be the value of your bars, or how high they are.\n",
    "\n",
    "Note: Rot = Rotation. When I specify rot=0, I'm telling pandas *not to* rotate my x labels. What happens if you remove this?"
   ]
  },
  {
   "cell_type": "code",
   "execution_count": 26,
   "metadata": {},
   "outputs": [
    {
     "data": {
      "image/png": "[encoded data removed]",
      "text/plain": [
       "<Figure size 432x288 with 1 Axes>"
      ]
     },
     "metadata": {
      "needs_background": "light"
     },
     "output_type": "display_data"
    }
   ],
   "source": [
    "df.plot.bar(x='name', y='AvgBill', rot=0);"
   ]
  },
  {
   "cell_type": "markdown",
   "metadata": {},
   "source": [
    "### 2. Comparing two groups together\n",
    "\n",
    "Say you have two items you want to compare next to each other? This is called a *grouped* bar chart. \n",
    "\n",
    "You can do this by passing all columns to your bar chart. Notice how I'm not specifying a Y, so pandas takes all other columns besides my X"
   ]
  },
  {
   "cell_type": "code",
   "execution_count": 27,
   "metadata": {},
   "outputs": [
    {
     "data": {
      "image/png": "[encoded data removed]",
      "text/plain": [
       "<Figure size 432x288 with 1 Axes>"
      ]
     },
     "metadata": {
      "needs_background": "light"
     },
     "output_type": "display_data"
    }
   ],
   "source": [
    "df.plot.bar(x='name', rot=0);"
   ]
  },
  {
   "cell_type": "markdown",
   "metadata": {},
   "source": [
    "### 3. Stacked Bar Plot\n",
    "Instead of having my bar plots groups side by side, I can also stack them on top of each other. You do this by setting **stacked=True**"
   ]
  },
  {
   "cell_type": "code",
   "execution_count": 28,
   "metadata": {},
   "outputs": [
    {
     "data": {
      "image/png": "[encoded data removed]",
      "text/plain": [
       "<Figure size 432x288 with 1 Axes>"
      ]
     },
     "metadata": {
      "needs_background": "light"
     },
     "output_type": "display_data"
    }
   ],
   "source": [
    "df.plot.bar(x='name', stacked=True, rot=0);"
   ]
  },
  {
   "cell_type": "markdown",
   "metadata": {},
   "source": [
    "### 4. Using Matplotlib format parameters\n",
    "As with any other Pandas Plot, you can take advantage of a full list of [general plot parameters](https://pandas.pydata.org/pandas-docs/stable/reference/api/pandas.DataFrame.plot.html#pandas.DataFrame.plot). Let's explore some."
   ]
  },
  {
   "cell_type": "code",
   "execution_count": 34,
   "metadata": {},
   "outputs": [
    {
     "data": {
      "image/png": "[encoded data removed]",
      "text/plain": [
       "<Figure size 720x288 with 1 Axes>"
      ]
     },
     "metadata": {
      "needs_background": "light"
     },
     "output_type": "display_data"
    }
   ],
   "source": [
    "df.plot.bar(x='name',\n",
    "            rot=0,\n",
    "            color=[(240/255,83/255,101/255), (250/255,188/255,42/255)], # passing normalized RGB colors \n",
    "            figsize=(10,4), # Figsize to make the plot larger\n",
    "            title='My SF Bar Plot', # Adding a title to the top\n",
    "            xlabel=\"SF Restaurants\", # Adding a label on the xaxis\n",
    "            ylabel=\"AvgBill\", # Adding a label on y axis\n",
    "            fontsize='large'); # Making my ticks a bit bigger"
   ]
  }
 ],
 "metadata": {
  "kernelspec": {
   "display_name": "Python 3",
   "language": "python",
   "name": "python3"
  },
  "language_info": {
   "codemirror_mode": {
    "name": "ipython",
    "version": 3
   },
   "file_extension": ".py",
   "mimetype": "text/x-python",
   "name": "python",
   "nbconvert_exporter": "python",
   "pygments_lexer": "ipython3",
   "version": "3.7.6"
  }
 },
 "nbformat": 4,
 "nbformat_minor": 4
}
