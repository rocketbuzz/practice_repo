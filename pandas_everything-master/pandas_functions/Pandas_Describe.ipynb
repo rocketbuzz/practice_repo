{
 "cells": [
  {
   "cell_type": "code",
   "execution_count": 1,
   "metadata": {},
   "outputs": [],
   "source": [
    "import pandas as pd"
   ]
  },
  {
   "cell_type": "markdown",
   "metadata": {},
   "source": [
    "### Pandas Describe\n",
    "\n",
    "Pandas Describe will do all of the hard work for you. Well...most of it. Calling .describe() on your dataset will produce a series of descriptive statistics that allow you to get to know your data better. \n",
    "\n",
    "We will run through 3 examples:\n",
    "1. Default Describe - Let's see what comes out by default\n",
    "2. Including *all* columns via 'include'\n",
    "3. Treating datetimes like numbers via *datetime_is_numeric=True*\n",
    "\n",
    "But first, let's user our San Francisco Tree dataset as our DataFrame. You can download this dataset at the github link below. Watch out, it's 193K rows."
   ]
  },
  {
   "cell_type": "code",
   "execution_count": 2,
   "metadata": {},
   "outputs": [
    {
     "data": {
      "text/html": [
       "<div>\n",
       "<style scoped>\n",
       "    .dataframe tbody tr th:only-of-type {\n",
       "        vertical-align: middle;\n",
       "    }\n",
       "\n",
       "    .dataframe tbody tr th {\n",
       "        vertical-align: top;\n",
       "    }\n",
       "\n",
       "    .dataframe thead th {\n",
       "        text-align: right;\n",
       "    }\n",
       "</style>\n",
       "<table border=\"1\" class=\"dataframe\">\n",
       "  <thead>\n",
       "    <tr style=\"text-align: right;\">\n",
       "      <th></th>\n",
       "      <th>TreeID</th>\n",
       "      <th>qSpecies</th>\n",
       "      <th>PlantDate</th>\n",
       "      <th>tree_depth</th>\n",
       "    </tr>\n",
       "  </thead>\n",
       "  <tbody>\n",
       "    <tr>\n",
       "      <th>0</th>\n",
       "      <td>46534</td>\n",
       "      <td>Tree(s) ::</td>\n",
       "      <td>2002-04-01</td>\n",
       "      <td>NaN</td>\n",
       "    </tr>\n",
       "    <tr>\n",
       "      <th>1</th>\n",
       "      <td>121399</td>\n",
       "      <td>Corymbia ficifolia :: Red Flowering Gum</td>\n",
       "      <td>NaT</td>\n",
       "      <td>NaN</td>\n",
       "    </tr>\n",
       "    <tr>\n",
       "      <th>2</th>\n",
       "      <td>85269</td>\n",
       "      <td>Arbutus 'Marina' :: Hybrid Strawberry Tree</td>\n",
       "      <td>2007-07-24</td>\n",
       "      <td>NaN</td>\n",
       "    </tr>\n",
       "    <tr>\n",
       "      <th>3</th>\n",
       "      <td>121227</td>\n",
       "      <td>Sequoia sempervirens :: Coast Redwood</td>\n",
       "      <td>NaT</td>\n",
       "      <td>NaN</td>\n",
       "    </tr>\n",
       "    <tr>\n",
       "      <th>4</th>\n",
       "      <td>45986</td>\n",
       "      <td>Tree(s) ::</td>\n",
       "      <td>2001-12-06</td>\n",
       "      <td>NaN</td>\n",
       "    </tr>\n",
       "  </tbody>\n",
       "</table>\n",
       "</div>"
      ],
      "text/plain": [
       "   TreeID                                    qSpecies  PlantDate  tree_depth\n",
       "0   46534                                  Tree(s) :: 2002-04-01         NaN\n",
       "1  121399     Corymbia ficifolia :: Red Flowering Gum        NaT         NaN\n",
       "2   85269  Arbutus 'Marina' :: Hybrid Strawberry Tree 2007-07-24         NaN\n",
       "3  121227       Sequoia sempervirens :: Coast Redwood        NaT         NaN\n",
       "4   45986                                  Tree(s) :: 2001-12-06         NaN"
      ]
     },
     "execution_count": 2,
     "metadata": {},
     "output_type": "execute_result"
    }
   ],
   "source": [
    "df = pd.read_csv('../data/Street_Tree_List.csv', parse_dates=['PlantDate'])\n",
    "df = df[['TreeID', 'qSpecies', 'PlantDate', 'DBH']]\n",
    "df.rename(mapper={'DBH':\"tree_depth\"}, axis=1, inplace=True)\n",
    "\n",
    "df.head()"
   ]
  },
  {
   "cell_type": "markdown",
   "metadata": {},
   "source": [
    "### 1. Default Describe - Let's see what comes out by default\n",
    "\n",
    "By default, .describe() will tell us a series of descriptive statistics, let's see what they are.\n",
    "\n",
    "You can see that although we have 4 columns in our dataset, only 2 of them are returned by default. This is because .describe() will only return the numeric column by default."
   ]
  },
  {
   "cell_type": "code",
   "execution_count": 3,
   "metadata": {},
   "outputs": [
    {
     "data": {
      "text/html": [
       "<div>\n",
       "<style scoped>\n",
       "    .dataframe tbody tr th:only-of-type {\n",
       "        vertical-align: middle;\n",
       "    }\n",
       "\n",
       "    .dataframe tbody tr th {\n",
       "        vertical-align: top;\n",
       "    }\n",
       "\n",
       "    .dataframe thead th {\n",
       "        text-align: right;\n",
       "    }\n",
       "</style>\n",
       "<table border=\"1\" class=\"dataframe\">\n",
       "  <thead>\n",
       "    <tr style=\"text-align: right;\">\n",
       "      <th></th>\n",
       "      <th>TreeID</th>\n",
       "      <th>tree_depth</th>\n",
       "    </tr>\n",
       "  </thead>\n",
       "  <tbody>\n",
       "    <tr>\n",
       "      <th>count</th>\n",
       "      <td>193940.000000</td>\n",
       "      <td>151614.000000</td>\n",
       "    </tr>\n",
       "    <tr>\n",
       "      <th>mean</th>\n",
       "      <td>126960.027674</td>\n",
       "      <td>9.927665</td>\n",
       "    </tr>\n",
       "    <tr>\n",
       "      <th>std</th>\n",
       "      <td>79504.829131</td>\n",
       "      <td>29.318932</td>\n",
       "    </tr>\n",
       "    <tr>\n",
       "      <th>min</th>\n",
       "      <td>1.000000</td>\n",
       "      <td>0.000000</td>\n",
       "    </tr>\n",
       "    <tr>\n",
       "      <th>25%</th>\n",
       "      <td>52836.750000</td>\n",
       "      <td>3.000000</td>\n",
       "    </tr>\n",
       "    <tr>\n",
       "      <th>50%</th>\n",
       "      <td>121171.500000</td>\n",
       "      <td>7.000000</td>\n",
       "    </tr>\n",
       "    <tr>\n",
       "      <th>75%</th>\n",
       "      <td>203348.250000</td>\n",
       "      <td>12.000000</td>\n",
       "    </tr>\n",
       "    <tr>\n",
       "      <th>max</th>\n",
       "      <td>262465.000000</td>\n",
       "      <td>9999.000000</td>\n",
       "    </tr>\n",
       "  </tbody>\n",
       "</table>\n",
       "</div>"
      ],
      "text/plain": [
       "              TreeID     tree_depth\n",
       "count  193940.000000  151614.000000\n",
       "mean   126960.027674       9.927665\n",
       "std     79504.829131      29.318932\n",
       "min         1.000000       0.000000\n",
       "25%     52836.750000       3.000000\n",
       "50%    121171.500000       7.000000\n",
       "75%    203348.250000      12.000000\n",
       "max    262465.000000    9999.000000"
      ]
     },
     "execution_count": 3,
     "metadata": {},
     "output_type": "execute_result"
    }
   ],
   "source": [
    "df.describe()"
   ]
  },
  {
   "cell_type": "markdown",
   "metadata": {},
   "source": [
    "### 2. Including all columns via 'include'\n",
    "\n",
    "If you wanted to include all columns in describe, then set include='all'.\n",
    "\n",
    "You'll notice that pandas needs to put 'NaN' for descriptive statistics that do not apply to non-numeric columns like strings. For example: 'qSpecies' does not have a 25th percentile."
   ]
  },
  {
   "cell_type": "code",
   "execution_count": 4,
   "metadata": {},
   "outputs": [
    {
     "name": "stderr",
     "output_type": "stream",
     "text": [
      "/opt/anaconda3/lib/python3.7/site-packages/ipykernel_launcher.py:1: FutureWarning: Treating datetime data as categorical rather than numeric in `.describe` is deprecated and will be removed in a future version of pandas. Specify `datetime_is_numeric=True` to silence this warning and adopt the future behavior now.\n",
      "  \"\"\"Entry point for launching an IPython kernel.\n"
     ]
    },
    {
     "data": {
      "text/html": [
       "<div>\n",
       "<style scoped>\n",
       "    .dataframe tbody tr th:only-of-type {\n",
       "        vertical-align: middle;\n",
       "    }\n",
       "\n",
       "    .dataframe tbody tr th {\n",
       "        vertical-align: top;\n",
       "    }\n",
       "\n",
       "    .dataframe thead th {\n",
       "        text-align: right;\n",
       "    }\n",
       "</style>\n",
       "<table border=\"1\" class=\"dataframe\">\n",
       "  <thead>\n",
       "    <tr style=\"text-align: right;\">\n",
       "      <th></th>\n",
       "      <th>TreeID</th>\n",
       "      <th>qSpecies</th>\n",
       "      <th>PlantDate</th>\n",
       "      <th>tree_depth</th>\n",
       "    </tr>\n",
       "  </thead>\n",
       "  <tbody>\n",
       "    <tr>\n",
       "      <th>count</th>\n",
       "      <td>193940.000000</td>\n",
       "      <td>193940</td>\n",
       "      <td>68911</td>\n",
       "      <td>151614.000000</td>\n",
       "    </tr>\n",
       "    <tr>\n",
       "      <th>unique</th>\n",
       "      <td>NaN</td>\n",
       "      <td>571</td>\n",
       "      <td>8945</td>\n",
       "      <td>NaN</td>\n",
       "    </tr>\n",
       "    <tr>\n",
       "      <th>top</th>\n",
       "      <td>NaN</td>\n",
       "      <td>Tree(s) ::</td>\n",
       "      <td>2000-06-23 00:00:00</td>\n",
       "      <td>NaN</td>\n",
       "    </tr>\n",
       "    <tr>\n",
       "      <th>freq</th>\n",
       "      <td>NaN</td>\n",
       "      <td>11734</td>\n",
       "      <td>314</td>\n",
       "      <td>NaN</td>\n",
       "    </tr>\n",
       "    <tr>\n",
       "      <th>first</th>\n",
       "      <td>NaN</td>\n",
       "      <td>NaN</td>\n",
       "      <td>1955-09-19 00:00:00</td>\n",
       "      <td>NaN</td>\n",
       "    </tr>\n",
       "    <tr>\n",
       "      <th>last</th>\n",
       "      <td>NaN</td>\n",
       "      <td>NaN</td>\n",
       "      <td>2020-07-30 00:00:00</td>\n",
       "      <td>NaN</td>\n",
       "    </tr>\n",
       "    <tr>\n",
       "      <th>mean</th>\n",
       "      <td>126960.027674</td>\n",
       "      <td>NaN</td>\n",
       "      <td>NaN</td>\n",
       "      <td>9.927665</td>\n",
       "    </tr>\n",
       "    <tr>\n",
       "      <th>std</th>\n",
       "      <td>79504.829131</td>\n",
       "      <td>NaN</td>\n",
       "      <td>NaN</td>\n",
       "      <td>29.318932</td>\n",
       "    </tr>\n",
       "    <tr>\n",
       "      <th>min</th>\n",
       "      <td>1.000000</td>\n",
       "      <td>NaN</td>\n",
       "      <td>NaN</td>\n",
       "      <td>0.000000</td>\n",
       "    </tr>\n",
       "    <tr>\n",
       "      <th>25%</th>\n",
       "      <td>52836.750000</td>\n",
       "      <td>NaN</td>\n",
       "      <td>NaN</td>\n",
       "      <td>3.000000</td>\n",
       "    </tr>\n",
       "    <tr>\n",
       "      <th>50%</th>\n",
       "      <td>121171.500000</td>\n",
       "      <td>NaN</td>\n",
       "      <td>NaN</td>\n",
       "      <td>7.000000</td>\n",
       "    </tr>\n",
       "    <tr>\n",
       "      <th>75%</th>\n",
       "      <td>203348.250000</td>\n",
       "      <td>NaN</td>\n",
       "      <td>NaN</td>\n",
       "      <td>12.000000</td>\n",
       "    </tr>\n",
       "    <tr>\n",
       "      <th>max</th>\n",
       "      <td>262465.000000</td>\n",
       "      <td>NaN</td>\n",
       "      <td>NaN</td>\n",
       "      <td>9999.000000</td>\n",
       "    </tr>\n",
       "  </tbody>\n",
       "</table>\n",
       "</div>"
      ],
      "text/plain": [
       "               TreeID    qSpecies            PlantDate     tree_depth\n",
       "count   193940.000000      193940                68911  151614.000000\n",
       "unique            NaN         571                 8945            NaN\n",
       "top               NaN  Tree(s) ::  2000-06-23 00:00:00            NaN\n",
       "freq              NaN       11734                  314            NaN\n",
       "first             NaN         NaN  1955-09-19 00:00:00            NaN\n",
       "last              NaN         NaN  2020-07-30 00:00:00            NaN\n",
       "mean    126960.027674         NaN                  NaN       9.927665\n",
       "std      79504.829131         NaN                  NaN      29.318932\n",
       "min          1.000000         NaN                  NaN       0.000000\n",
       "25%      52836.750000         NaN                  NaN       3.000000\n",
       "50%     121171.500000         NaN                  NaN       7.000000\n",
       "75%     203348.250000         NaN                  NaN      12.000000\n",
       "max     262465.000000         NaN                  NaN    9999.000000"
      ]
     },
     "execution_count": 4,
     "metadata": {},
     "output_type": "execute_result"
    }
   ],
   "source": [
    "df.describe(include='all')"
   ]
  },
  {
   "cell_type": "markdown",
   "metadata": {},
   "source": [
    "### 3. Treating datetimes like numbers via datetime_is_numeric=True\n",
    "\n",
    "Finally, let's end by calling .describe() on a Series. We'll do it on our 'PlantDate' column and see the difference between treating dates like objects and treating them like numbers.\n",
    "\n",
    "Notice how in the first example we do not get percentiles or min/max. But in the second example we do."
   ]
  },
  {
   "cell_type": "code",
   "execution_count": 5,
   "metadata": {},
   "outputs": [
    {
     "name": "stderr",
     "output_type": "stream",
     "text": [
      "/opt/anaconda3/lib/python3.7/site-packages/ipykernel_launcher.py:1: FutureWarning: Treating datetime data as categorical rather than numeric in `.describe` is deprecated and will be removed in a future version of pandas. Specify `datetime_is_numeric=True` to silence this warning and adopt the future behavior now.\n",
      "  \"\"\"Entry point for launching an IPython kernel.\n"
     ]
    },
    {
     "data": {
      "text/plain": [
       "count                   68911\n",
       "unique                   8945\n",
       "top       2000-06-23 00:00:00\n",
       "freq                      314\n",
       "first     1955-09-19 00:00:00\n",
       "last      2020-07-30 00:00:00\n",
       "Name: PlantDate, dtype: object"
      ]
     },
     "execution_count": 5,
     "metadata": {},
     "output_type": "execute_result"
    }
   ],
   "source": [
    "df['PlantDate'].describe()"
   ]
  },
  {
   "cell_type": "code",
   "execution_count": 6,
   "metadata": {},
   "outputs": [
    {
     "data": {
      "text/plain": [
       "count                            68911\n",
       "mean     2000-12-02 22:19:59.122334464\n",
       "min                1955-09-19 00:00:00\n",
       "25%                1995-01-30 00:00:00\n",
       "50%                2001-07-24 00:00:00\n",
       "75%                2008-11-21 00:00:00\n",
       "max                2020-07-30 00:00:00\n",
       "Name: PlantDate, dtype: object"
      ]
     },
     "execution_count": 6,
     "metadata": {},
     "output_type": "execute_result"
    }
   ],
   "source": [
    "df['PlantDate'].describe(datetime_is_numeric=True)"
   ]
  }
 ],
 "metadata": {
  "kernelspec": {
   "display_name": "Python 3",
   "language": "python",
   "name": "python3"
  },
  "language_info": {
   "codemirror_mode": {
    "name": "ipython",
    "version": 3
   },
   "file_extension": ".py",
   "mimetype": "text/x-python",
   "name": "python",
   "nbconvert_exporter": "python",
   "pygments_lexer": "ipython3",
   "version": "3.7.6"
  }
 },
 "nbformat": 4,
 "nbformat_minor": 4
}
