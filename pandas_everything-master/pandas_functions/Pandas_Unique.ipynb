{
 "cells": [
  {
   "cell_type": "code",
   "execution_count": 1,
   "metadata": {},
   "outputs": [],
   "source": [
    "import pandas as pd"
   ]
  },
  {
   "cell_type": "markdown",
   "metadata": {},
   "source": [
    "### Pandas Unique\n",
    "\n",
    "Pandas Unique will show you the unique values within your dataset or Series. This is very useful when you're trying to understand the cardinality (*how many* elements) in a group.\n",
    "\n",
    "Let's run through an example\n",
    "1. Find the unique values within a Pandas column\n",
    "\n",
    "And one application\n",
    "1. Iterate through a DataFrame's column's unique values. Then filter the DataFrame and do something with your data\n",
    "\n",
    "Let's first create a DataFrame"
   ]
  },
  {
   "cell_type": "code",
   "execution_count": 6,
   "metadata": {},
   "outputs": [
    {
     "data": {
      "text/html": [
       "<div>\n",
       "<style scoped>\n",
       "    .dataframe tbody tr th:only-of-type {\n",
       "        vertical-align: middle;\n",
       "    }\n",
       "\n",
       "    .dataframe tbody tr th {\n",
       "        vertical-align: top;\n",
       "    }\n",
       "\n",
       "    .dataframe thead th {\n",
       "        text-align: right;\n",
       "    }\n",
       "</style>\n",
       "<table border=\"1\" class=\"dataframe\">\n",
       "  <thead>\n",
       "    <tr style=\"text-align: right;\">\n",
       "      <th></th>\n",
       "      <th>name</th>\n",
       "      <th>type</th>\n",
       "      <th>AvgBill</th>\n",
       "    </tr>\n",
       "  </thead>\n",
       "  <tbody>\n",
       "    <tr>\n",
       "      <th>0</th>\n",
       "      <td>Foreign Cinema</td>\n",
       "      <td>Restaurant</td>\n",
       "      <td>289.00</td>\n",
       "    </tr>\n",
       "    <tr>\n",
       "      <th>1</th>\n",
       "      <td>Liho Liho</td>\n",
       "      <td>Restaurant</td>\n",
       "      <td>224.00</td>\n",
       "    </tr>\n",
       "    <tr>\n",
       "      <th>2</th>\n",
       "      <td>500 Club</td>\n",
       "      <td>Bar</td>\n",
       "      <td>80.50</td>\n",
       "    </tr>\n",
       "    <tr>\n",
       "      <th>3</th>\n",
       "      <td>The Square</td>\n",
       "      <td>Bar</td>\n",
       "      <td>19.34</td>\n",
       "    </tr>\n",
       "    <tr>\n",
       "      <th>4</th>\n",
       "      <td>The Square</td>\n",
       "      <td>Bar</td>\n",
       "      <td>29.30</td>\n",
       "    </tr>\n",
       "    <tr>\n",
       "      <th>5</th>\n",
       "      <td>Foreign Cinema</td>\n",
       "      <td>Restaurant</td>\n",
       "      <td>340.03</td>\n",
       "    </tr>\n",
       "    <tr>\n",
       "      <th>6</th>\n",
       "      <td>500 Club</td>\n",
       "      <td>Bar</td>\n",
       "      <td>50.70</td>\n",
       "    </tr>\n",
       "    <tr>\n",
       "      <th>7</th>\n",
       "      <td>500 Club</td>\n",
       "      <td>Bar</td>\n",
       "      <td>45.20</td>\n",
       "    </tr>\n",
       "  </tbody>\n",
       "</table>\n",
       "</div>"
      ],
      "text/plain": [
       "             name        type  AvgBill\n",
       "0  Foreign Cinema  Restaurant   289.00\n",
       "1       Liho Liho  Restaurant   224.00\n",
       "2        500 Club         Bar    80.50\n",
       "3      The Square         Bar    19.34\n",
       "4      The Square         Bar    29.30\n",
       "5  Foreign Cinema  Restaurant   340.03\n",
       "6        500 Club         Bar    50.70\n",
       "7        500 Club         Bar    45.20"
      ]
     },
     "execution_count": 6,
     "metadata": {},
     "output_type": "execute_result"
    }
   ],
   "source": [
    "df = pd.DataFrame([('Foreign Cinema', 'Restaurant', 289.0),\n",
    "                   ('Liho Liho', 'Restaurant', 224.0),\n",
    "                   ('500 Club', 'Bar', 80.5),\n",
    "                   ('The Square', 'Bar', 19.34),\n",
    "                   ('The Square', 'Bar', 29.30),\n",
    "                   ('Foreign Cinema', 'Restaurant', 340.03),\n",
    "                   ('500 Club', 'Bar', 50.7),\n",
    "                   ('500 Club', 'Bar', 45.2),],\n",
    "           columns=('name', 'type', 'AvgBill')\n",
    "                 )\n",
    "df"
   ]
  },
  {
   "cell_type": "markdown",
   "metadata": {},
   "source": [
    "### 1. Find the unique values within a Pandas column\n",
    "\n",
    "Say you want to find the unique values within a Pandas Column. All you need to do is call .unique() on the column you're interested in. Let's first find the unique values within 'name', then within 'type'"
   ]
  },
  {
   "cell_type": "code",
   "execution_count": 4,
   "metadata": {},
   "outputs": [
    {
     "data": {
      "text/plain": [
       "array(['Foreign Cinema', 'Liho Liho', '500 Club', 'The Square'],\n",
       "      dtype=object)"
      ]
     },
     "execution_count": 4,
     "metadata": {},
     "output_type": "execute_result"
    }
   ],
   "source": [
    "df['name'].unique()"
   ]
  },
  {
   "cell_type": "code",
   "execution_count": 5,
   "metadata": {},
   "outputs": [
    {
     "data": {
      "text/plain": [
       "array(['Restaurant', 'bar'], dtype=object)"
      ]
     },
     "execution_count": 5,
     "metadata": {},
     "output_type": "execute_result"
    }
   ],
   "source": [
    "df['type'].unique()"
   ]
  },
  {
   "cell_type": "markdown",
   "metadata": {},
   "source": [
    "### Application: 1. Iterate through a DataFrame's column's unique values. Then filter the DataFrame and do something with your data\n",
    "\n",
    "Often times I'll use .unique() when I want to iterate through the subsets of my DataFrame. Here I'm going to iterate through the unique values within the 'name' column and find the sum of the 'AvgBill' column.\n",
    "\n",
    "There are more efficient ways of doing this, but we'll use this as the demonstration."
   ]
  },
  {
   "cell_type": "code",
   "execution_count": 7,
   "metadata": {},
   "outputs": [
    {
     "data": {
      "text/plain": [
       "array(['Foreign Cinema', 'Liho Liho', '500 Club', 'The Square'],\n",
       "      dtype=object)"
      ]
     },
     "execution_count": 7,
     "metadata": {},
     "output_type": "execute_result"
    }
   ],
   "source": [
    "unique_values = df['name'].unique()\n",
    "unique_values"
   ]
  },
  {
   "cell_type": "code",
   "execution_count": 9,
   "metadata": {},
   "outputs": [
    {
     "name": "stdout",
     "output_type": "stream",
     "text": [
      "Your total bill for Foreign Cinema is 629.03\n",
      "Your total bill for Liho Liho is 224.0\n",
      "Your total bill for 500 Club is 176.39999999999998\n",
      "Your total bill for The Square is 48.64\n"
     ]
    }
   ],
   "source": [
    "for rezy in unique_values:\n",
    "    df_single_rezy = df[df['name']==rezy]\n",
    "    \n",
    "    print (\"Your total bill for {} is {}\".format(rezy, df_single_rezy['AvgBill'].sum()))"
   ]
  }
 ],
 "metadata": {
  "kernelspec": {
   "display_name": "Python 3",
   "language": "python",
   "name": "python3"
  },
  "language_info": {
   "codemirror_mode": {
    "name": "ipython",
    "version": 3
   },
   "file_extension": ".py",
   "mimetype": "text/x-python",
   "name": "python",
   "nbconvert_exporter": "python",
   "pygments_lexer": "ipython3",
   "version": "3.7.6"
  }
 },
 "nbformat": 4,
 "nbformat_minor": 4
}
