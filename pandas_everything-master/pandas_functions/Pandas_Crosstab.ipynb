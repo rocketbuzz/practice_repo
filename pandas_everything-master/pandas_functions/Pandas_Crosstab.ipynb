{
 "cells": [
  {
   "cell_type": "code",
   "execution_count": 1,
   "metadata": {},
   "outputs": [],
   "source": [
    "import pandas as pd"
   ]
  },
  {
   "cell_type": "markdown",
   "metadata": {},
   "source": [
    "### Pandas Crosstab\n",
    "Pandas crosstab is extremely similar to pandas pivot table. In fact, cross tab uses pivot table in its [source code.](https://github.com/pandas-dev/pandas/blob/d9fff2792bf16178d4e450fe7384244e50635733/pandas/core/reshape/pivot.py#L616)\n",
    "\n",
    "You use crosstab when you want to transform 3 or more columns into a summarization table. It's mostly used when your data does *not* start as a DataFrame. But rather lists of items. \n",
    "\n",
    "Examples we'll run through:\n",
    "1. Simple crosstab exercises\n",
    "2. Simple crosstab exercises with sum aggregate function\n",
    "3. Exploring crosstab parameters\n",
    "\n",
    "But first, let's start with a couple of lists of restaurants in San Francisco:"
   ]
  },
  {
   "cell_type": "code",
   "execution_count": 2,
   "metadata": {},
   "outputs": [
    {
     "name": "stdout",
     "output_type": "stream",
     "text": [
      "Restaurant Names: ['FC', 'LL', 'FC', '5C', 'TS', 'FC', '5C']\n",
      "Purchase Type: ['Food', 'Food', 'Food', 'Drink', 'Food', 'Drink', 'Drink']\n",
      "Price: [12, 25, 32, 10, 15, 22, 18]\n"
     ]
    }
   ],
   "source": [
    "res_names = ['FC', 'LL', 'FC', '5C', 'TS', 'FC', '5C']\n",
    "purchase_type = ['Food', 'Food', 'Food', 'Drink', 'Food', 'Drink', 'Drink']\n",
    "price = [12, 25, 32, 10, 15, 22, 18]\n",
    "\n",
    "print ('Restaurant Names: {}'.format(res_names))\n",
    "print ('Purchase Type: {}'.format(purchase_type))\n",
    "print ('Price: {}'.format(price))"
   ]
  },
  {
   "cell_type": "markdown",
   "metadata": {},
   "source": [
    "### 1. Simple crosstab exercises\n",
    "When you create a crosstab table, you'll need to specify what you want on the rows, how to split the columns, and what you'd like to include in the values.\n",
    "\n",
    "Notice that I need to pass a list of lists to index and columns. To do this I'll wrap my res_names in a list."
   ]
  },
  {
   "cell_type": "code",
   "execution_count": 3,
   "metadata": {
    "scrolled": true
   },
   "outputs": [
    {
     "data": {
      "text/html": [
       "<div>\n",
       "<style scoped>\n",
       "    .dataframe tbody tr th:only-of-type {\n",
       "        vertical-align: middle;\n",
       "    }\n",
       "\n",
       "    .dataframe tbody tr th {\n",
       "        vertical-align: top;\n",
       "    }\n",
       "\n",
       "    .dataframe thead th {\n",
       "        text-align: right;\n",
       "    }\n",
       "</style>\n",
       "<table border=\"1\" class=\"dataframe\">\n",
       "  <thead>\n",
       "    <tr style=\"text-align: right;\">\n",
       "      <th>col_0</th>\n",
       "      <th>Drink</th>\n",
       "      <th>Food</th>\n",
       "    </tr>\n",
       "    <tr>\n",
       "      <th>row_0</th>\n",
       "      <th></th>\n",
       "      <th></th>\n",
       "    </tr>\n",
       "  </thead>\n",
       "  <tbody>\n",
       "    <tr>\n",
       "      <th>5C</th>\n",
       "      <td>2</td>\n",
       "      <td>0</td>\n",
       "    </tr>\n",
       "    <tr>\n",
       "      <th>FC</th>\n",
       "      <td>1</td>\n",
       "      <td>2</td>\n",
       "    </tr>\n",
       "    <tr>\n",
       "      <th>LL</th>\n",
       "      <td>0</td>\n",
       "      <td>1</td>\n",
       "    </tr>\n",
       "    <tr>\n",
       "      <th>TS</th>\n",
       "      <td>0</td>\n",
       "      <td>1</td>\n",
       "    </tr>\n",
       "  </tbody>\n",
       "</table>\n",
       "</div>"
      ],
      "text/plain": [
       "col_0  Drink  Food\n",
       "row_0             \n",
       "5C         2     0\n",
       "FC         1     2\n",
       "LL         0     1\n",
       "TS         0     1"
      ]
     },
     "execution_count": 3,
     "metadata": {},
     "output_type": "execute_result"
    }
   ],
   "source": [
    "pd.crosstab(index=[res_names], columns=[purchase_type])"
   ]
  },
  {
   "cell_type": "markdown",
   "metadata": {},
   "source": [
    "### 2. Simple crosstab exercises with sum aggregate function\n",
    "By default (in the example above) crosstab will count the frequencies in which an intersection happens. Notice how '5C' and 'Drink' intersection happens twice, so it's listed as '2' in the values.\n",
    "\n",
    "But what if we wanted to summarize the price by summing them up? You can do that by passing values and aggfunc"
   ]
  },
  {
   "cell_type": "code",
   "execution_count": 4,
   "metadata": {
    "scrolled": false
   },
   "outputs": [
    {
     "data": {
      "text/html": [
       "<div>\n",
       "<style scoped>\n",
       "    .dataframe tbody tr th:only-of-type {\n",
       "        vertical-align: middle;\n",
       "    }\n",
       "\n",
       "    .dataframe tbody tr th {\n",
       "        vertical-align: top;\n",
       "    }\n",
       "\n",
       "    .dataframe thead th {\n",
       "        text-align: right;\n",
       "    }\n",
       "</style>\n",
       "<table border=\"1\" class=\"dataframe\">\n",
       "  <thead>\n",
       "    <tr style=\"text-align: right;\">\n",
       "      <th>col_0</th>\n",
       "      <th>Drink</th>\n",
       "      <th>Food</th>\n",
       "    </tr>\n",
       "    <tr>\n",
       "      <th>row_0</th>\n",
       "      <th></th>\n",
       "      <th></th>\n",
       "    </tr>\n",
       "  </thead>\n",
       "  <tbody>\n",
       "    <tr>\n",
       "      <th>5C</th>\n",
       "      <td>28.0</td>\n",
       "      <td>NaN</td>\n",
       "    </tr>\n",
       "    <tr>\n",
       "      <th>FC</th>\n",
       "      <td>22.0</td>\n",
       "      <td>44.0</td>\n",
       "    </tr>\n",
       "    <tr>\n",
       "      <th>LL</th>\n",
       "      <td>NaN</td>\n",
       "      <td>25.0</td>\n",
       "    </tr>\n",
       "    <tr>\n",
       "      <th>TS</th>\n",
       "      <td>NaN</td>\n",
       "      <td>15.0</td>\n",
       "    </tr>\n",
       "  </tbody>\n",
       "</table>\n",
       "</div>"
      ],
      "text/plain": [
       "col_0  Drink  Food\n",
       "row_0             \n",
       "5C      28.0   NaN\n",
       "FC      22.0  44.0\n",
       "LL       NaN  25.0\n",
       "TS       NaN  15.0"
      ]
     },
     "execution_count": 4,
     "metadata": {},
     "output_type": "execute_result"
    }
   ],
   "source": [
    "pd.crosstab(index=[res_names], columns=[purchase_type], values=price, aggfunc=sum)"
   ]
  },
  {
   "cell_type": "markdown",
   "metadata": {},
   "source": [
    "### 3. Exploring crosstab parameters\n",
    "Crosstab comes with many other parameters you can use. Check out the [documentation](https://pandas.pydata.org/pandas-docs/stable/reference/api/pandas.crosstab.html) for reference."
   ]
  },
  {
   "cell_type": "code",
   "execution_count": 23,
   "metadata": {
    "scrolled": false
   },
   "outputs": [
    {
     "data": {
      "text/html": [
       "<div>\n",
       "<style scoped>\n",
       "    .dataframe tbody tr th:only-of-type {\n",
       "        vertical-align: middle;\n",
       "    }\n",
       "\n",
       "    .dataframe tbody tr th {\n",
       "        vertical-align: top;\n",
       "    }\n",
       "\n",
       "    .dataframe thead th {\n",
       "        text-align: right;\n",
       "    }\n",
       "</style>\n",
       "<table border=\"1\" class=\"dataframe\">\n",
       "  <thead>\n",
       "    <tr style=\"text-align: right;\">\n",
       "      <th>Food Types</th>\n",
       "      <th>Drink</th>\n",
       "      <th>Food</th>\n",
       "      <th>Totals</th>\n",
       "    </tr>\n",
       "    <tr>\n",
       "      <th>Restaurants</th>\n",
       "      <th></th>\n",
       "      <th></th>\n",
       "      <th></th>\n",
       "    </tr>\n",
       "  </thead>\n",
       "  <tbody>\n",
       "    <tr>\n",
       "      <th>5C</th>\n",
       "      <td>784.0</td>\n",
       "      <td>NaN</td>\n",
       "      <td>784</td>\n",
       "    </tr>\n",
       "    <tr>\n",
       "      <th>FC</th>\n",
       "      <td>484.0</td>\n",
       "      <td>1936.0</td>\n",
       "      <td>4356</td>\n",
       "    </tr>\n",
       "    <tr>\n",
       "      <th>LL</th>\n",
       "      <td>NaN</td>\n",
       "      <td>625.0</td>\n",
       "      <td>625</td>\n",
       "    </tr>\n",
       "    <tr>\n",
       "      <th>TS</th>\n",
       "      <td>NaN</td>\n",
       "      <td>225.0</td>\n",
       "      <td>225</td>\n",
       "    </tr>\n",
       "    <tr>\n",
       "      <th>Totals</th>\n",
       "      <td>2500.0</td>\n",
       "      <td>7056.0</td>\n",
       "      <td>17956</td>\n",
       "    </tr>\n",
       "  </tbody>\n",
       "</table>\n",
       "</div>"
      ],
      "text/plain": [
       "Food Types    Drink    Food  Totals\n",
       "Restaurants                        \n",
       "5C            784.0     NaN     784\n",
       "FC            484.0  1936.0    4356\n",
       "LL              NaN   625.0     625\n",
       "TS              NaN   225.0     225\n",
       "Totals       2500.0  7056.0   17956"
      ]
     },
     "execution_count": 23,
     "metadata": {},
     "output_type": "execute_result"
    }
   ],
   "source": [
    "pd.crosstab(index=[res_names],\n",
    "            columns=[purchase_type],\n",
    "            values=price,\n",
    "            aggfunc=lambda x: x.sum()**2, # Setting a custom agg function\n",
    "            rownames=[\"Restaurants\"], # Giving a title to my rows\n",
    "            colnames=['Food Types'], # Giving a title to my columns\n",
    "            margins=True, # Adding margins (Subtotals on the ends)\n",
    "            margins_name=\"Totals\") # Give my subtotals a title"
   ]
  }
 ],
 "metadata": {
  "kernelspec": {
   "display_name": "Python 3",
   "language": "python",
   "name": "python3"
  },
  "language_info": {
   "codemirror_mode": {
    "name": "ipython",
    "version": 3
   },
   "file_extension": ".py",
   "mimetype": "text/x-python",
   "name": "python",
   "nbconvert_exporter": "python",
   "pygments_lexer": "ipython3",
   "version": "3.7.6"
  }
 },
 "nbformat": 4,
 "nbformat_minor": 4
}
