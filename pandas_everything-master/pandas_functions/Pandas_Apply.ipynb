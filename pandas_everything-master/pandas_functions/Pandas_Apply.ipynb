{
 "cells": [
  {
   "cell_type": "code",
   "execution_count": 1,
   "metadata": {},
   "outputs": [],
   "source": [
    "import pandas as pd"
   ]
  },
  {
   "cell_type": "markdown",
   "metadata": {},
   "source": [
    "### Pandas Apply\n",
    "We will run through 3 examples:\n",
    "1. How to iterate through *columns*\n",
    "2. How to iterate through *rows*\n",
    "3. Trying out a pandas function with apply\n",
    "\n",
    "But first, let's create our DataFrame"
   ]
  },
  {
   "cell_type": "code",
   "execution_count": 2,
   "metadata": {},
   "outputs": [
    {
     "data": {
      "text/html": [
       "<div>\n",
       "<style scoped>\n",
       "    .dataframe tbody tr th:only-of-type {\n",
       "        vertical-align: middle;\n",
       "    }\n",
       "\n",
       "    .dataframe tbody tr th {\n",
       "        vertical-align: top;\n",
       "    }\n",
       "\n",
       "    .dataframe thead th {\n",
       "        text-align: right;\n",
       "    }\n",
       "</style>\n",
       "<table border=\"1\" class=\"dataframe\">\n",
       "  <thead>\n",
       "    <tr style=\"text-align: right;\">\n",
       "      <th></th>\n",
       "      <th>name</th>\n",
       "      <th>type</th>\n",
       "      <th>AvgBill</th>\n",
       "    </tr>\n",
       "  </thead>\n",
       "  <tbody>\n",
       "    <tr>\n",
       "      <th>0</th>\n",
       "      <td>Foreign Cinema</td>\n",
       "      <td>Restaurant</td>\n",
       "      <td>289.0</td>\n",
       "    </tr>\n",
       "    <tr>\n",
       "      <th>1</th>\n",
       "      <td>Liho Liho</td>\n",
       "      <td>Restaurant</td>\n",
       "      <td>224.0</td>\n",
       "    </tr>\n",
       "    <tr>\n",
       "      <th>2</th>\n",
       "      <td>500 Club</td>\n",
       "      <td>bar</td>\n",
       "      <td>80.5</td>\n",
       "    </tr>\n",
       "    <tr>\n",
       "      <th>3</th>\n",
       "      <td>The Square</td>\n",
       "      <td>bar</td>\n",
       "      <td>25.3</td>\n",
       "    </tr>\n",
       "  </tbody>\n",
       "</table>\n",
       "</div>"
      ],
      "text/plain": [
       "             name        type  AvgBill\n",
       "0  Foreign Cinema  Restaurant    289.0\n",
       "1       Liho Liho  Restaurant    224.0\n",
       "2        500 Club         bar     80.5\n",
       "3      The Square         bar     25.3"
      ]
     },
     "execution_count": 2,
     "metadata": {},
     "output_type": "execute_result"
    }
   ],
   "source": [
    "df = pd.DataFrame([('Foreign Cinema', 'Restaurant', 289.0),\n",
    "                   ('Liho Liho', 'Restaurant', 224.0),\n",
    "                   ('500 Club', 'bar', 80.5),\n",
    "                   ('The Square', 'bar', 25.30)],\n",
    "           columns=('name', 'type', 'AvgBill')\n",
    "                 )\n",
    "df"
   ]
  },
  {
   "cell_type": "markdown",
   "metadata": {},
   "source": [
    "Then I'm going to create a very quick function that simply prints out what is passed to apply"
   ]
  },
  {
   "cell_type": "code",
   "execution_count": 10,
   "metadata": {},
   "outputs": [],
   "source": [
    "def print_outcome(x):\n",
    "    print (type(x))\n",
    "    print (x)\n",
    "    print ()"
   ]
  },
  {
   "cell_type": "markdown",
   "metadata": {},
   "source": [
    "#### Iterating through columns!\n",
    "When you want to iterate through columns, make sure that you have axis=0, which is also the default"
   ]
  },
  {
   "cell_type": "code",
   "execution_count": 13,
   "metadata": {},
   "outputs": [
    {
     "name": "stdout",
     "output_type": "stream",
     "text": [
      "<class 'pandas.core.series.Series'>\n",
      "0    Foreign Cinema\n",
      "1         Liho Liho\n",
      "2          500 Club\n",
      "3        The Square\n",
      "Name: name, dtype: object\n",
      "\n",
      "<class 'pandas.core.series.Series'>\n",
      "0    Restaurant\n",
      "1    Restaurant\n",
      "2           bar\n",
      "3           bar\n",
      "Name: type, dtype: object\n",
      "\n",
      "<class 'pandas.core.series.Series'>\n",
      "0     289\n",
      "1     224\n",
      "2    80.5\n",
      "3    25.3\n",
      "Name: AvgBill, dtype: object\n",
      "\n"
     ]
    },
    {
     "data": {
      "text/plain": [
       "name       None\n",
       "type       None\n",
       "AvgBill    None\n",
       "dtype: object"
      ]
     },
     "execution_count": 13,
     "metadata": {},
     "output_type": "execute_result"
    }
   ],
   "source": [
    "df.apply(print_outcome, axis=0)"
   ]
  },
  {
   "cell_type": "markdown",
   "metadata": {},
   "source": [
    "Notice that apply went through column by column and printed out a Series. These series contain the values of each row in that column."
   ]
  },
  {
   "cell_type": "markdown",
   "metadata": {},
   "source": [
    "#### Iterating through rows!\n",
    "\n",
    "Let's do the same thing, but iterate through rows (axis=1) instead of columns."
   ]
  },
  {
   "cell_type": "code",
   "execution_count": 14,
   "metadata": {},
   "outputs": [
    {
     "name": "stdout",
     "output_type": "stream",
     "text": [
      "<class 'pandas.core.series.Series'>\n",
      "name       Foreign Cinema\n",
      "type           Restaurant\n",
      "AvgBill               289\n",
      "Name: 0, dtype: object\n",
      "\n",
      "<class 'pandas.core.series.Series'>\n",
      "name        Liho Liho\n",
      "type       Restaurant\n",
      "AvgBill           224\n",
      "Name: 1, dtype: object\n",
      "\n",
      "<class 'pandas.core.series.Series'>\n",
      "name       500 Club\n",
      "type            bar\n",
      "AvgBill        80.5\n",
      "Name: 2, dtype: object\n",
      "\n",
      "<class 'pandas.core.series.Series'>\n",
      "name       The Square\n",
      "type              bar\n",
      "AvgBill          25.3\n",
      "Name: 3, dtype: object\n",
      "\n"
     ]
    },
    {
     "data": {
      "text/plain": [
       "0    None\n",
       "1    None\n",
       "2    None\n",
       "3    None\n",
       "dtype: object"
      ]
     },
     "execution_count": 14,
     "metadata": {},
     "output_type": "execute_result"
    }
   ],
   "source": [
    "df.apply(print_outcome, axis=1)"
   ]
  },
  {
   "cell_type": "markdown",
   "metadata": {},
   "source": [
    "Same thing, but this time we iterated through the rows and we were returned a series, one value for each column. Notice how the column names ended up being the row index"
   ]
  },
  {
   "cell_type": "markdown",
   "metadata": {},
   "source": [
    "#### Pandas function with apply\n",
    "\n",
    "I want to concatenate the series of values in to 1 string, separated by a \",\". In order to do this, I'll use a custom function."
   ]
  },
  {
   "cell_type": "code",
   "execution_count": 47,
   "metadata": {},
   "outputs": [
    {
     "data": {
      "text/plain": [
       "0    Foreign Cinema, Restaurant, 289.0\n",
       "1         Liho Liho, Restaurant, 224.0\n",
       "2                  500 Club, bar, 80.5\n",
       "3                The Square, bar, 25.3\n",
       "dtype: object"
      ]
     },
     "execution_count": 47,
     "metadata": {},
     "output_type": "execute_result"
    }
   ],
   "source": [
    "def combine_strings(row):\n",
    "    return \"{}, {}, {}\".format(row['name'], row['type'], row['AvgBill'])\n",
    "\n",
    "df.apply(combine_strings, axis=1)"
   ]
  },
  {
   "cell_type": "markdown",
   "metadata": {},
   "source": [
    "In my custom function above, I had an argument within combine_strings, 'row', which would be a series of values from our dataframe. I then parsed out each column by it's name (name, type, AvgBill) and combined them together using python's format."
   ]
  }
 ],
 "metadata": {
  "kernelspec": {
   "display_name": "Python 3",
   "language": "python",
   "name": "python3"
  },
  "language_info": {
   "codemirror_mode": {
    "name": "ipython",
    "version": 3
   },
   "file_extension": ".py",
   "mimetype": "text/x-python",
   "name": "python",
   "nbconvert_exporter": "python",
   "pygments_lexer": "ipython3",
   "version": "3.7.6"
  }
 },
 "nbformat": 4,
 "nbformat_minor": 4
}
