{
 "cells": [
  {
   "cell_type": "code",
   "execution_count": 1,
   "metadata": {},
   "outputs": [],
   "source": [
    "import pandas as pd"
   ]
  },
  {
   "cell_type": "markdown",
   "metadata": {},
   "source": [
    "### Pandas Date Range\n",
    "Pandas Date Range is super helpful for creating a range of times or dates. It's most often used when reindexing your DatetimeIndex.\n",
    "\n",
    "Make sure to check out the [frequency offsets](https://pandas.pydata.org/pandas-docs/stable/user_guide/timeseries.html#offset-aliases) for a full list of how to split your data.\n",
    "\n",
    "The output of pd.date_range() will be a clean list of dates/times.\n",
    "\n",
    "Examples we'll run through:\n",
    "1. Creating a simple date range\n",
    "2. Creating a date range in 6 minute intervals\n",
    "3. Creating a date range with 10 periods\n",
    "4. Exploring different frequencies"
   ]
  },
  {
   "cell_type": "markdown",
   "metadata": {},
   "source": [
    "### 1. Creating a simple date range\n",
    "\n",
    "To create a date range, you must first specify a start time and end time.\n",
    "\n",
    "Here I'm creating a date range from the Jan 1, 2020 to Jan 6th, 2020. The default frequency is 'day'. This means my date range will be split by days.\n",
    "\n",
    "Notice how I have 6 values, a day for each day between my start and end times."
   ]
  },
  {
   "cell_type": "code",
   "execution_count": 2,
   "metadata": {
    "scrolled": true
   },
   "outputs": [
    {
     "data": {
      "text/plain": [
       "DatetimeIndex(['2020-01-01', '2020-01-02', '2020-01-03', '2020-01-04',\n",
       "               '2020-01-05', '2020-01-06'],\n",
       "              dtype='datetime64[ns]', freq='D')"
      ]
     },
     "execution_count": 2,
     "metadata": {},
     "output_type": "execute_result"
    }
   ],
   "source": [
    "pd.date_range(start='2020-01-01', end='2020-01-06')"
   ]
  },
  {
   "cell_type": "markdown",
   "metadata": {},
   "source": [
    "### 2. Creating a date range in 6 minute intervals\n",
    "\n",
    "Let's say you didn't want to split your date range by *day*, but rather by 6 minutes.\n",
    "\n",
    "To do this you need to specify your 'freq' parameter and tell pandas to split your start/end times every 6 minutes. \n",
    "\n",
    "In the example below, I'll specify times (not just dates) within my start/end."
   ]
  },
  {
   "cell_type": "code",
   "execution_count": 3,
   "metadata": {
    "scrolled": true
   },
   "outputs": [
    {
     "data": {
      "text/plain": [
       "DatetimeIndex(['2020-01-01 00:00:00', '2020-01-01 00:06:00',\n",
       "               '2020-01-01 00:12:00', '2020-01-01 00:18:00',\n",
       "               '2020-01-01 00:24:00'],\n",
       "              dtype='datetime64[ns]', freq='6T')"
      ]
     },
     "execution_count": 3,
     "metadata": {},
     "output_type": "execute_result"
    }
   ],
   "source": [
    "pd.date_range(start='2020-01-01 00:00:00', end='2020-01-01 00:24:00', freq='6T')"
   ]
  },
  {
   "cell_type": "markdown",
   "metadata": {},
   "source": [
    "Notice here how I specified '6T' for my frequency. 'T' is the offset code for minutes. '6T' means 6-minutes. For a full list of frequency offsets check out the [pandas documentation.](https://pandas.pydata.org/pandas-docs/stable/user_guide/timeseries.html#offset-aliases)"
   ]
  },
  {
   "cell_type": "markdown",
   "metadata": {},
   "source": [
    "### 3. Creating a date range with 10 periods\n",
    "\n",
    "Actually, instead of splitting my date range by every 6 minutes, I just want to create 10 periods or buckets. Rather than specifying a freq=144S (24min / 10), I'm going to tell pandas I want 10 periods"
   ]
  },
  {
   "cell_type": "code",
   "execution_count": 4,
   "metadata": {},
   "outputs": [
    {
     "data": {
      "text/plain": [
       "DatetimeIndex(['2020-01-01 00:00:00', '2020-01-01 00:02:40',\n",
       "               '2020-01-01 00:05:20', '2020-01-01 00:08:00',\n",
       "               '2020-01-01 00:10:40', '2020-01-01 00:13:20',\n",
       "               '2020-01-01 00:16:00', '2020-01-01 00:18:40',\n",
       "               '2020-01-01 00:21:20', '2020-01-01 00:24:00'],\n",
       "              dtype='datetime64[ns]', freq=None)"
      ]
     },
     "execution_count": 4,
     "metadata": {},
     "output_type": "execute_result"
    }
   ],
   "source": [
    "pd.date_range(start='2020-01-01 00:00:00', end='2020-01-01 00:24:00', periods=10)"
   ]
  },
  {
   "cell_type": "markdown",
   "metadata": {},
   "source": [
    "### 4. Exploring different frequencies\n",
    "\n",
    "Let's get creative and explore different frequency options. There are a ton of cool ones to use. Pandas actually gives you a ton of flexibility for business use cases as well."
   ]
  },
  {
   "cell_type": "markdown",
   "metadata": {},
   "source": [
    "**Business Day 'B'** - Notice how the weekends are taken out of the date range below"
   ]
  },
  {
   "cell_type": "code",
   "execution_count": 5,
   "metadata": {},
   "outputs": [
    {
     "data": {
      "text/plain": [
       "DatetimeIndex(['2020-01-01', '2020-01-02', '2020-01-03', '2020-01-06',\n",
       "               '2020-01-07', '2020-01-08', '2020-01-09', '2020-01-10'],\n",
       "              dtype='datetime64[ns]', freq='B')"
      ]
     },
     "execution_count": 5,
     "metadata": {},
     "output_type": "execute_result"
    }
   ],
   "source": [
    "pd.date_range(start='2020-01-01', end='2020-01-10', freq='B')"
   ]
  },
  {
   "cell_type": "markdown",
   "metadata": {},
   "source": [
    "**Weekly 'W'** - Cutting your date range into weeks"
   ]
  },
  {
   "cell_type": "code",
   "execution_count": 6,
   "metadata": {
    "scrolled": true
   },
   "outputs": [
    {
     "data": {
      "text/plain": [
       "DatetimeIndex(['2020-01-05', '2020-01-12', '2020-01-19', '2020-01-26',\n",
       "               '2020-02-02', '2020-02-09', '2020-02-16', '2020-02-23',\n",
       "               '2020-03-01', '2020-03-08'],\n",
       "              dtype='datetime64[ns]', freq='W-SUN')"
      ]
     },
     "execution_count": 6,
     "metadata": {},
     "output_type": "execute_result"
    }
   ],
   "source": [
    "pd.date_range(start='2020-01-01', end='2020-03-10', freq='W')"
   ]
  },
  {
   "cell_type": "markdown",
   "metadata": {},
   "source": [
    "**Month End 'M' / Month Start 'MS'** - Splitting your date range by months"
   ]
  },
  {
   "cell_type": "code",
   "execution_count": 7,
   "metadata": {
    "scrolled": true
   },
   "outputs": [
    {
     "data": {
      "text/plain": [
       "DatetimeIndex(['2020-01-31', '2020-02-29', '2020-03-31'], dtype='datetime64[ns]', freq='M')"
      ]
     },
     "execution_count": 7,
     "metadata": {},
     "output_type": "execute_result"
    }
   ],
   "source": [
    "pd.date_range(start='2020-01-01', end='2020-04-01', freq='M')"
   ]
  },
  {
   "cell_type": "code",
   "execution_count": 8,
   "metadata": {},
   "outputs": [
    {
     "data": {
      "text/plain": [
       "DatetimeIndex(['2020-01-01', '2020-02-01', '2020-03-01', '2020-04-01'], dtype='datetime64[ns]', freq='MS')"
      ]
     },
     "execution_count": 8,
     "metadata": {},
     "output_type": "execute_result"
    }
   ],
   "source": [
    "pd.date_range(start='2020-01-01', end='2020-04-01', freq='MS')"
   ]
  },
  {
   "cell_type": "markdown",
   "metadata": {},
   "source": [
    "**Quarters 'Q'** - Splitting your date range by quarters"
   ]
  },
  {
   "cell_type": "code",
   "execution_count": 9,
   "metadata": {
    "scrolled": false
   },
   "outputs": [
    {
     "data": {
      "text/plain": [
       "DatetimeIndex(['2020-03-31', '2020-06-30', '2020-09-30'], dtype='datetime64[ns]', freq='Q-DEC')"
      ]
     },
     "execution_count": 9,
     "metadata": {},
     "output_type": "execute_result"
    }
   ],
   "source": [
    "pd.date_range(start='2020-01-01', end='2020-12-01', freq='Q')"
   ]
  },
  {
   "cell_type": "markdown",
   "metadata": {},
   "source": [
    "**Every 5 Months '5M'** - Don't forget your can put a integer in front of your freq to expand the frequency"
   ]
  },
  {
   "cell_type": "code",
   "execution_count": 10,
   "metadata": {
    "scrolled": false
   },
   "outputs": [
    {
     "data": {
      "text/plain": [
       "DatetimeIndex(['2020-01-31', '2020-06-30', '2020-11-30', '2021-04-30',\n",
       "               '2021-09-30'],\n",
       "              dtype='datetime64[ns]', freq='5M')"
      ]
     },
     "execution_count": 10,
     "metadata": {},
     "output_type": "execute_result"
    }
   ],
   "source": [
    "pd.date_range(start='2020-01-01', end='2021-12-01', freq='5M')"
   ]
  },
  {
   "cell_type": "markdown",
   "metadata": {},
   "source": [
    "What other frequencies can you play with?"
   ]
  }
 ],
 "metadata": {
  "kernelspec": {
   "display_name": "Python 3",
   "language": "python",
   "name": "python3"
  },
  "language_info": {
   "codemirror_mode": {
    "name": "ipython",
    "version": 3
   },
   "file_extension": ".py",
   "mimetype": "text/x-python",
   "name": "python",
   "nbconvert_exporter": "python",
   "pygments_lexer": "ipython3",
   "version": "3.7.6"
  }
 },
 "nbformat": 4,
 "nbformat_minor": 4
}
