{
 "cells": [
  {
   "cell_type": "code",
   "execution_count": 1,
   "metadata": {},
   "outputs": [],
   "source": [
    "import pandas as pd\n",
    "import numpy as np"
   ]
  },
  {
   "cell_type": "markdown",
   "metadata": {},
   "source": [
    "### Pandas idxmax\n",
    "\n",
    "Pandas idxmax will tell you where your axis highest values are on the *other axis*. It is super useful when using your columns as observation points (vs categorical variables). \n",
    "\n",
    "We will run through 3 examples:\n",
    "1. Find which row's column has it's highest value\n",
    "2. Find which column's row has it's highest value\n",
    "3. Using a larger dataframe, find which students scored highest on a each test. \n",
    "\n",
    "But first, let's create our DataFrame"
   ]
  },
  {
   "cell_type": "code",
   "execution_count": 2,
   "metadata": {},
   "outputs": [
    {
     "data": {
      "text/html": [
       "<div>\n",
       "<style scoped>\n",
       "    .dataframe tbody tr th:only-of-type {\n",
       "        vertical-align: middle;\n",
       "    }\n",
       "\n",
       "    .dataframe tbody tr th {\n",
       "        vertical-align: top;\n",
       "    }\n",
       "\n",
       "    .dataframe thead th {\n",
       "        text-align: right;\n",
       "    }\n",
       "</style>\n",
       "<table border=\"1\" class=\"dataframe\">\n",
       "  <thead>\n",
       "    <tr style=\"text-align: right;\">\n",
       "      <th></th>\n",
       "      <th>Test1</th>\n",
       "      <th>Test2</th>\n",
       "      <th>Test3</th>\n",
       "    </tr>\n",
       "  </thead>\n",
       "  <tbody>\n",
       "    <tr>\n",
       "      <th>Bob</th>\n",
       "      <td>51</td>\n",
       "      <td>92</td>\n",
       "      <td>14</td>\n",
       "    </tr>\n",
       "    <tr>\n",
       "      <th>Sally</th>\n",
       "      <td>71</td>\n",
       "      <td>60</td>\n",
       "      <td>20</td>\n",
       "    </tr>\n",
       "    <tr>\n",
       "      <th>Frank</th>\n",
       "      <td>82</td>\n",
       "      <td>86</td>\n",
       "      <td>74</td>\n",
       "    </tr>\n",
       "    <tr>\n",
       "      <th>Patty</th>\n",
       "      <td>74</td>\n",
       "      <td>87</td>\n",
       "      <td>99</td>\n",
       "    </tr>\n",
       "  </tbody>\n",
       "</table>\n",
       "</div>"
      ],
      "text/plain": [
       "       Test1  Test2  Test3\n",
       "Bob       51     92     14\n",
       "Sally     71     60     20\n",
       "Frank     82     86     74\n",
       "Patty     74     87     99"
      ]
     },
     "execution_count": 2,
     "metadata": {},
     "output_type": "execute_result"
    }
   ],
   "source": [
    "np.random.seed(seed=42)\n",
    "\n",
    "df = pd.DataFrame(data=np.random.randint(0, 100, (4,3)),\n",
    "           columns=['Test1', 'Test2', 'Test3'],\n",
    "            index=['Bob','Sally', 'Frank', 'Patty']\n",
    "                 )\n",
    "df"
   ]
  },
  {
   "cell_type": "markdown",
   "metadata": {},
   "source": [
    "### 1. Find which row's column has it's highest value\n",
    "\n",
    "In order to find out which column has the highest value for a given row, we need to call idxmax(axis=1). The resulting series will tell us which column/row intersection contains the highest value.\n",
    "\n",
    "Notice below how the series tells us which test was higest for each of our students."
   ]
  },
  {
   "cell_type": "code",
   "execution_count": 3,
   "metadata": {},
   "outputs": [
    {
     "data": {
      "text/plain": [
       "Bob      Test2\n",
       "Sally    Test1\n",
       "Frank    Test2\n",
       "Patty    Test3\n",
       "dtype: object"
      ]
     },
     "execution_count": 3,
     "metadata": {},
     "output_type": "execute_result"
    }
   ],
   "source": [
    "df.idxmax(axis=1)"
   ]
  },
  {
   "cell_type": "markdown",
   "metadata": {},
   "source": [
    "### 2. Find which column's row has it's highest value\n",
    "\n",
    "Say we wanted to find the inverse, which row has the higest value for each column? Another way, which student scored highest on each test? To do this, set axis=0 to switch to a column view.\n",
    "\n",
    "Now we only have 3 items in our resulting series, one for each test with the top student in each."
   ]
  },
  {
   "cell_type": "code",
   "execution_count": 4,
   "metadata": {},
   "outputs": [
    {
     "data": {
      "text/plain": [
       "Test1    Frank\n",
       "Test2      Bob\n",
       "Test3    Patty\n",
       "dtype: object"
      ]
     },
     "execution_count": 4,
     "metadata": {},
     "output_type": "execute_result"
    }
   ],
   "source": [
    "df.idxmax(axis=0)"
   ]
  },
  {
   "cell_type": "markdown",
   "metadata": {},
   "source": [
    "### 3. Using a larger dataframe, find which students scored highest on a each test. \n",
    "\n",
    "Let's expand our student base. We will create a dataframe with 100 students and 10 tests to see which ones did the best.\n",
    "\n",
    "Wow that's a lot of students and test scores. Let's also find how many there are."
   ]
  },
  {
   "cell_type": "code",
   "execution_count": 5,
   "metadata": {},
   "outputs": [
    {
     "name": "stdout",
     "output_type": "stream",
     "text": [
      "There are 1,000 test scores\n"
     ]
    },
    {
     "data": {
      "text/html": [
       "<div>\n",
       "<style scoped>\n",
       "    .dataframe tbody tr th:only-of-type {\n",
       "        vertical-align: middle;\n",
       "    }\n",
       "\n",
       "    .dataframe tbody tr th {\n",
       "        vertical-align: top;\n",
       "    }\n",
       "\n",
       "    .dataframe thead th {\n",
       "        text-align: right;\n",
       "    }\n",
       "</style>\n",
       "<table border=\"1\" class=\"dataframe\">\n",
       "  <thead>\n",
       "    <tr style=\"text-align: right;\">\n",
       "      <th></th>\n",
       "      <th>Test1</th>\n",
       "      <th>Test2</th>\n",
       "      <th>Test3</th>\n",
       "      <th>Test4</th>\n",
       "      <th>Test5</th>\n",
       "      <th>Test6</th>\n",
       "      <th>Test7</th>\n",
       "      <th>Test8</th>\n",
       "      <th>Test9</th>\n",
       "      <th>Test10</th>\n",
       "    </tr>\n",
       "  </thead>\n",
       "  <tbody>\n",
       "    <tr>\n",
       "      <th>Student1</th>\n",
       "      <td>51</td>\n",
       "      <td>92</td>\n",
       "      <td>14</td>\n",
       "      <td>71</td>\n",
       "      <td>60</td>\n",
       "      <td>20</td>\n",
       "      <td>82</td>\n",
       "      <td>86</td>\n",
       "      <td>74</td>\n",
       "      <td>74</td>\n",
       "    </tr>\n",
       "    <tr>\n",
       "      <th>Student2</th>\n",
       "      <td>87</td>\n",
       "      <td>99</td>\n",
       "      <td>23</td>\n",
       "      <td>2</td>\n",
       "      <td>21</td>\n",
       "      <td>52</td>\n",
       "      <td>1</td>\n",
       "      <td>87</td>\n",
       "      <td>29</td>\n",
       "      <td>37</td>\n",
       "    </tr>\n",
       "    <tr>\n",
       "      <th>Student3</th>\n",
       "      <td>1</td>\n",
       "      <td>63</td>\n",
       "      <td>59</td>\n",
       "      <td>20</td>\n",
       "      <td>32</td>\n",
       "      <td>75</td>\n",
       "      <td>57</td>\n",
       "      <td>21</td>\n",
       "      <td>88</td>\n",
       "      <td>48</td>\n",
       "    </tr>\n",
       "    <tr>\n",
       "      <th>Student4</th>\n",
       "      <td>90</td>\n",
       "      <td>58</td>\n",
       "      <td>41</td>\n",
       "      <td>91</td>\n",
       "      <td>59</td>\n",
       "      <td>79</td>\n",
       "      <td>14</td>\n",
       "      <td>61</td>\n",
       "      <td>61</td>\n",
       "      <td>46</td>\n",
       "    </tr>\n",
       "    <tr>\n",
       "      <th>Student5</th>\n",
       "      <td>61</td>\n",
       "      <td>50</td>\n",
       "      <td>54</td>\n",
       "      <td>63</td>\n",
       "      <td>2</td>\n",
       "      <td>50</td>\n",
       "      <td>6</td>\n",
       "      <td>20</td>\n",
       "      <td>72</td>\n",
       "      <td>38</td>\n",
       "    </tr>\n",
       "    <tr>\n",
       "      <th>...</th>\n",
       "      <td>...</td>\n",
       "      <td>...</td>\n",
       "      <td>...</td>\n",
       "      <td>...</td>\n",
       "      <td>...</td>\n",
       "      <td>...</td>\n",
       "      <td>...</td>\n",
       "      <td>...</td>\n",
       "      <td>...</td>\n",
       "      <td>...</td>\n",
       "    </tr>\n",
       "    <tr>\n",
       "      <th>Student96</th>\n",
       "      <td>80</td>\n",
       "      <td>25</td>\n",
       "      <td>35</td>\n",
       "      <td>0</td>\n",
       "      <td>7</td>\n",
       "      <td>98</td>\n",
       "      <td>51</td>\n",
       "      <td>78</td>\n",
       "      <td>46</td>\n",
       "      <td>55</td>\n",
       "    </tr>\n",
       "    <tr>\n",
       "      <th>Student97</th>\n",
       "      <td>85</td>\n",
       "      <td>13</td>\n",
       "      <td>89</td>\n",
       "      <td>27</td>\n",
       "      <td>86</td>\n",
       "      <td>77</td>\n",
       "      <td>87</td>\n",
       "      <td>1</td>\n",
       "      <td>25</td>\n",
       "      <td>13</td>\n",
       "    </tr>\n",
       "    <tr>\n",
       "      <th>Student98</th>\n",
       "      <td>58</td>\n",
       "      <td>55</td>\n",
       "      <td>6</td>\n",
       "      <td>2</td>\n",
       "      <td>22</td>\n",
       "      <td>17</td>\n",
       "      <td>37</td>\n",
       "      <td>98</td>\n",
       "      <td>14</td>\n",
       "      <td>63</td>\n",
       "    </tr>\n",
       "    <tr>\n",
       "      <th>Student99</th>\n",
       "      <td>88</td>\n",
       "      <td>27</td>\n",
       "      <td>73</td>\n",
       "      <td>38</td>\n",
       "      <td>56</td>\n",
       "      <td>16</td>\n",
       "      <td>85</td>\n",
       "      <td>89</td>\n",
       "      <td>43</td>\n",
       "      <td>24</td>\n",
       "    </tr>\n",
       "    <tr>\n",
       "      <th>Student100</th>\n",
       "      <td>16</td>\n",
       "      <td>12</td>\n",
       "      <td>83</td>\n",
       "      <td>24</td>\n",
       "      <td>67</td>\n",
       "      <td>9</td>\n",
       "      <td>66</td>\n",
       "      <td>17</td>\n",
       "      <td>99</td>\n",
       "      <td>85</td>\n",
       "    </tr>\n",
       "  </tbody>\n",
       "</table>\n",
       "<p>100 rows × 10 columns</p>\n",
       "</div>"
      ],
      "text/plain": [
       "            Test1  Test2  Test3  Test4  Test5  Test6  Test7  Test8  Test9  \\\n",
       "Student1       51     92     14     71     60     20     82     86     74   \n",
       "Student2       87     99     23      2     21     52      1     87     29   \n",
       "Student3        1     63     59     20     32     75     57     21     88   \n",
       "Student4       90     58     41     91     59     79     14     61     61   \n",
       "Student5       61     50     54     63      2     50      6     20     72   \n",
       "...           ...    ...    ...    ...    ...    ...    ...    ...    ...   \n",
       "Student96      80     25     35      0      7     98     51     78     46   \n",
       "Student97      85     13     89     27     86     77     87      1     25   \n",
       "Student98      58     55      6      2     22     17     37     98     14   \n",
       "Student99      88     27     73     38     56     16     85     89     43   \n",
       "Student100     16     12     83     24     67      9     66     17     99   \n",
       "\n",
       "            Test10  \n",
       "Student1        74  \n",
       "Student2        37  \n",
       "Student3        48  \n",
       "Student4        46  \n",
       "Student5        38  \n",
       "...            ...  \n",
       "Student96       55  \n",
       "Student97       13  \n",
       "Student98       63  \n",
       "Student99       24  \n",
       "Student100      85  \n",
       "\n",
       "[100 rows x 10 columns]"
      ]
     },
     "execution_count": 5,
     "metadata": {},
     "output_type": "execute_result"
    }
   ],
   "source": [
    "np.random.seed(seed=42)\n",
    "num_students = 100\n",
    "num_tests = 10\n",
    "\n",
    "df = pd.DataFrame(data=np.random.randint(0, 100, (num_students,num_tests)),\n",
    "           columns=[\"Test{}\".format(x) for x in range(1, num_tests + 1)],\n",
    "            index=[\"Student{}\".format(x) for x in range(1, num_students + 1)]\n",
    "                 )\n",
    "\n",
    "print (\"There are {:,} test scores\".format(len(df)* len(df.columns)))\n",
    "df"
   ]
  },
  {
   "cell_type": "code",
   "execution_count": 6,
   "metadata": {},
   "outputs": [
    {
     "data": {
      "text/plain": [
       "Student1      Test2\n",
       "Student2      Test2\n",
       "Student3      Test9\n",
       "Student4      Test4\n",
       "Student5      Test9\n",
       "              ...  \n",
       "Student96     Test6\n",
       "Student97     Test3\n",
       "Student98     Test8\n",
       "Student99     Test8\n",
       "Student100    Test9\n",
       "Length: 100, dtype: object"
      ]
     },
     "execution_count": 6,
     "metadata": {},
     "output_type": "execute_result"
    }
   ],
   "source": [
    "df.idxmax(axis=1)"
   ]
  }
 ],
 "metadata": {
  "kernelspec": {
   "display_name": "Python 3",
   "language": "python",
   "name": "python3"
  },
  "language_info": {
   "codemirror_mode": {
    "name": "ipython",
    "version": 3
   },
   "file_extension": ".py",
   "mimetype": "text/x-python",
   "name": "python",
   "nbconvert_exporter": "python",
   "pygments_lexer": "ipython3",
   "version": "3.7.6"
  }
 },
 "nbformat": 4,
 "nbformat_minor": 4
}
