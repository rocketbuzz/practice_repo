{
 "cells": [
  {
   "cell_type": "code",
   "execution_count": 1,
   "metadata": {},
   "outputs": [],
   "source": [
    "import pandas as pd"
   ]
  },
  {
   "cell_type": "markdown",
   "metadata": {},
   "source": [
    "### Pandas To Datetime\n",
    "\n",
    "Pandas to datetime is a beautiful function that allows you to convert your strings into DateTimes. This is extremely useful when working with Time Series data.\n",
    "\n",
    "Let's convert strings to datetimes:\n",
    "1. Basic conversion with scalar string\n",
    "2. Convert Pandas Series to datetime\n",
    "3. Convert Pandas Series to datetime w/ custom format\n",
    "4. Convert Unix integer (days) to datetime\n",
    "5. Convert integer (seconds) to datetime\n",
    "\n",
    "The hardest part about this jupyter notebook will be creating the messy strings to convert. Forgive the plumming you'll see."
   ]
  },
  {
   "cell_type": "markdown",
   "metadata": {},
   "source": [
    "### 1. Basic Basic conversion with scalar string\n",
    "\n",
    "To convert any string to a datetime, you'll need to start with .to_datetime(). This is called directly from the pandas library.\n",
    "\n",
    "For this first one, I'll show the types of the variables to demonstrate going from a string to a datetime."
   ]
  },
  {
   "cell_type": "code",
   "execution_count": 2,
   "metadata": {},
   "outputs": [
    {
     "name": "stdout",
     "output_type": "stream",
     "text": [
      "Your string: 2020-02-01\n",
      "Your string_to_convert type: <class 'str'>\n",
      "\n",
      "Your new date is: 2020-02-01 00:00:00\n",
      "Your new type is: <class 'pandas._libs.tslibs.timestamps.Timestamp'>\n"
     ]
    }
   ],
   "source": [
    "string_to_convert = '2020-02-01'\n",
    "print ('Your string: {}'.format(string_to_convert))\n",
    "print ('Your string_to_convert type: {}'.format(type(string_to_convert)))\n",
    "print ()\n",
    "\n",
    "# Convert your string\n",
    "new_date = pd.to_datetime(string_to_convert)\n",
    "\n",
    "print ('Your new date is: {}'.format(new_date))\n",
    "print ('Your new type is: {}'.format(type(new_date)))"
   ]
  },
  {
   "cell_type": "markdown",
   "metadata": {},
   "source": [
    "### 2. Convert Pandas Series to datetime\n",
    "\n",
    "Instead of passing a single string, I usually pass a series of strings that need converting.\n",
    "\n",
    "Then, I'll replace a DataFrame column with the new Datetime column\n",
    "\n",
    "First I'll make my series"
   ]
  },
  {
   "cell_type": "code",
   "execution_count": 3,
   "metadata": {},
   "outputs": [
    {
     "data": {
      "text/plain": [
       "0    2020-02-01\n",
       "1    2020-02-02\n",
       "2    2020-02-03\n",
       "3    2020-02-04\n",
       "dtype: object"
      ]
     },
     "execution_count": 3,
     "metadata": {},
     "output_type": "execute_result"
    }
   ],
   "source": [
    "s = pd.Series(['2020-02-01',\n",
    "               '2020-02-02',\n",
    "               '2020-02-03',\n",
    "               '2020-02-04'])\n",
    "s"
   ]
  },
  {
   "cell_type": "code",
   "execution_count": 4,
   "metadata": {},
   "outputs": [
    {
     "data": {
      "text/plain": [
       "0   2020-02-01\n",
       "1   2020-02-02\n",
       "2   2020-02-03\n",
       "3   2020-02-04\n",
       "dtype: datetime64[ns]"
      ]
     },
     "execution_count": 4,
     "metadata": {},
     "output_type": "execute_result"
    }
   ],
   "source": [
    "s = pd.to_datetime(s)\n",
    "s"
   ]
  },
  {
   "cell_type": "markdown",
   "metadata": {},
   "source": [
    "### 3. Convert Pandas Series to datetime w/ custom format\n",
    "Let's get into the awesome power of Datetime conversion with format codes. Say you have a messy string with a date inside and you need to convert it to a date. You need to tell pandas how to convert it and this is done via **format codes.**\n",
    "\n",
    "Look how cool that is! We can pass any string along with a format and pandas will parse the dates"
   ]
  },
  {
   "cell_type": "code",
   "execution_count": 5,
   "metadata": {},
   "outputs": [
    {
     "data": {
      "text/plain": [
       "0    My 3date is 01199002\n",
       "1    My 3date is 02199015\n",
       "2    My 3date is 03199020\n",
       "3    My 3date is 09199204\n",
       "dtype: object"
      ]
     },
     "execution_count": 5,
     "metadata": {},
     "output_type": "execute_result"
    }
   ],
   "source": [
    "s = pd.Series(['My 3date is 01199002',\n",
    "           'My 3date is 02199015',\n",
    "           'My 3date is 03199020',\n",
    "           'My 3date is 09199204'])\n",
    "s"
   ]
  },
  {
   "cell_type": "code",
   "execution_count": 6,
   "metadata": {},
   "outputs": [
    {
     "data": {
      "text/plain": [
       "0   1990-01-02\n",
       "1   1990-02-15\n",
       "2   1990-03-20\n",
       "3   1992-09-04\n",
       "dtype: datetime64[ns]"
      ]
     },
     "execution_count": 6,
     "metadata": {},
     "output_type": "execute_result"
    }
   ],
   "source": [
    "s = pd.to_datetime(s, format=\"My 3date is %m%Y%d\")\n",
    "s"
   ]
  },
  {
   "cell_type": "markdown",
   "metadata": {},
   "source": [
    "### 4. Convert Unix integer (days) to datetime\n",
    "You can also convert integers into Datetimes. You'll need to keep two things in mind\n",
    "1. What is your reference point?\n",
    "2. What is the unit of your integer?\n",
    "\n",
    "**Reference point** = What time do you want to start 'counting' your units from?\n",
    "\n",
    "**Unit** = Is your integer in terms of # of days, seconds, years, etc.?"
   ]
  },
  {
   "cell_type": "code",
   "execution_count": 7,
   "metadata": {},
   "outputs": [
    {
     "data": {
      "text/plain": [
       "Timestamp('2009-11-06 00:00:00')"
      ]
     },
     "execution_count": 7,
     "metadata": {},
     "output_type": "execute_result"
    }
   ],
   "source": [
    "pd.to_datetime(14554, unit='D', origin='unix')"
   ]
  },
  {
   "cell_type": "markdown",
   "metadata": {},
   "source": [
    "### 5. Convert integer (seconds) to datetime\n",
    "More often, you'll have a unix timestamp that is expresses in seconds. As in seconds away from the default origin of 1970-01-01.\n",
    "\n",
    "For example, at the time of this post, we are 1,600,355,888 seconds away from 1970-01-01. That's lot of seconds!"
   ]
  },
  {
   "cell_type": "code",
   "execution_count": 8,
   "metadata": {},
   "outputs": [
    {
     "data": {
      "text/plain": [
       "Timestamp('2020-09-17 15:18:08')"
      ]
     },
     "execution_count": 8,
     "metadata": {},
     "output_type": "execute_result"
    }
   ],
   "source": [
    "pd.to_datetime(1600355888, unit='s', origin='unix')"
   ]
  },
  {
   "cell_type": "markdown",
   "metadata": {},
   "source": [
    "### Bonus: 6. Change your origin or reference point\n",
    "Say your dataset only has # of days after a certain time, but no datetimes. You could either *add* all of those days via a pd.Timedelta(). \n",
    "\n",
    "Or you could convert them to datetimes with a different origin. Let's check this out from 2020-02-01.\n",
    "\n",
    "Below, we convert 160 into +160 days *after* 2020-02-01."
   ]
  },
  {
   "cell_type": "code",
   "execution_count": 9,
   "metadata": {},
   "outputs": [
    {
     "data": {
      "text/plain": [
       "Timestamp('2020-07-10 00:00:00')"
      ]
     },
     "execution_count": 9,
     "metadata": {},
     "output_type": "execute_result"
    }
   ],
   "source": [
    "pd.to_datetime(160, unit='D', origin='2020-02-01')"
   ]
  }
 ],
 "metadata": {
  "kernelspec": {
   "display_name": "Python 3",
   "language": "python",
   "name": "python3"
  },
  "language_info": {
   "codemirror_mode": {
    "name": "ipython",
    "version": 3
   },
   "file_extension": ".py",
   "mimetype": "text/x-python",
   "name": "python",
   "nbconvert_exporter": "python",
   "pygments_lexer": "ipython3",
   "version": "3.7.6"
  }
 },
 "nbformat": 4,
 "nbformat_minor": 4
}
