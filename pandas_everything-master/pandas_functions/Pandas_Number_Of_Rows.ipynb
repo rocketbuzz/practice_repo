{
 "cells": [
  {
   "cell_type": "code",
   "execution_count": 1,
   "metadata": {},
   "outputs": [],
   "source": [
    "import pandas as pd\n",
    "import numpy as np"
   ]
  },
  {
   "cell_type": "markdown",
   "metadata": {},
   "source": [
    "### Pandas Number Of Rows\n",
    "\n",
    "Counting the number of rows in your dataset is the most basic metric you'll need when getting to *know your data*. Let's run through examples to find the count of rows in your data.\n",
    "\n",
    "We will run through 6 methods:\n",
    "1. len(df)\n",
    "2. df.info\n",
    "5. ``__len__`` - (same as len(df.index))\n",
    "3. df.shape[0]\n",
    "4. df.count()\n",
    "6. len(df.axes[0])\n",
    "\n",
    "But first, let's create our DataFrame"
   ]
  },
  {
   "cell_type": "code",
   "execution_count": 2,
   "metadata": {},
   "outputs": [
    {
     "data": {
      "text/html": [
       "<div>\n",
       "<style scoped>\n",
       "    .dataframe tbody tr th:only-of-type {\n",
       "        vertical-align: middle;\n",
       "    }\n",
       "\n",
       "    .dataframe tbody tr th {\n",
       "        vertical-align: top;\n",
       "    }\n",
       "\n",
       "    .dataframe thead th {\n",
       "        text-align: right;\n",
       "    }\n",
       "</style>\n",
       "<table border=\"1\" class=\"dataframe\">\n",
       "  <thead>\n",
       "    <tr style=\"text-align: right;\">\n",
       "      <th></th>\n",
       "      <th>Column#0</th>\n",
       "      <th>Column#1</th>\n",
       "      <th>Column#2</th>\n",
       "      <th>Column#3</th>\n",
       "      <th>Column#4</th>\n",
       "    </tr>\n",
       "  </thead>\n",
       "  <tbody>\n",
       "    <tr>\n",
       "      <th>0</th>\n",
       "      <td>536</td>\n",
       "      <td>597</td>\n",
       "      <td>176</td>\n",
       "      <td>624</td>\n",
       "      <td>464</td>\n",
       "    </tr>\n",
       "    <tr>\n",
       "      <th>1</th>\n",
       "      <td>328</td>\n",
       "      <td>958</td>\n",
       "      <td>427</td>\n",
       "      <td>907</td>\n",
       "      <td>319</td>\n",
       "    </tr>\n",
       "    <tr>\n",
       "      <th>2</th>\n",
       "      <td>558</td>\n",
       "      <td>765</td>\n",
       "      <td>951</td>\n",
       "      <td>347</td>\n",
       "      <td>975</td>\n",
       "    </tr>\n",
       "    <tr>\n",
       "      <th>3</th>\n",
       "      <td>149</td>\n",
       "      <td>111</td>\n",
       "      <td>729</td>\n",
       "      <td>773</td>\n",
       "      <td>334</td>\n",
       "    </tr>\n",
       "    <tr>\n",
       "      <th>4</th>\n",
       "      <td>158</td>\n",
       "      <td>374</td>\n",
       "      <td>470</td>\n",
       "      <td>998</td>\n",
       "      <td>117</td>\n",
       "    </tr>\n",
       "  </tbody>\n",
       "</table>\n",
       "</div>"
      ],
      "text/plain": [
       "   Column#0  Column#1  Column#2  Column#3  Column#4\n",
       "0       536       597       176       624       464\n",
       "1       328       958       427       907       319\n",
       "2       558       765       951       347       975\n",
       "3       149       111       729       773       334\n",
       "4       158       374       470       998       117"
      ]
     },
     "execution_count": 2,
     "metadata": {},
     "output_type": "execute_result"
    }
   ],
   "source": [
    "num_rows = 234\n",
    "num_columns=5\n",
    "\n",
    "df = pd.DataFrame(data=np.random.randint(0, 1000, (num_rows, num_columns)),\n",
    "                  columns=[\"Column#{}\".format(x) for x in range(num_columns)])\n",
    "df.head()"
   ]
  },
  {
   "cell_type": "markdown",
   "metadata": {},
   "source": [
    "### Method 1: len(df)\n",
    "\n",
    "The most simple and easiest way to find the length of your dataframe is using vanilla python. This means calling python len() on your dataframe."
   ]
  },
  {
   "cell_type": "code",
   "execution_count": 3,
   "metadata": {},
   "outputs": [
    {
     "data": {
      "text/plain": [
       "234"
      ]
     },
     "execution_count": 3,
     "metadata": {},
     "output_type": "execute_result"
    }
   ],
   "source": [
    "len(df)"
   ]
  },
  {
   "cell_type": "markdown",
   "metadata": {},
   "source": [
    "### Method 2: df.info\n",
    "\n",
    "Next is df.info. This one is nice because you get extra information for free. Unfortunately this is more for computer <> human readability. If you're going to use the number of rows in your dataframe somewhere else in your program, use len().\n",
    "\n",
    "Notice how '234' rows is shown after 'RangeIndex: '"
   ]
  },
  {
   "cell_type": "code",
   "execution_count": 4,
   "metadata": {},
   "outputs": [
    {
     "name": "stdout",
     "output_type": "stream",
     "text": [
      "<class 'pandas.core.frame.DataFrame'>\n",
      "RangeIndex: 234 entries, 0 to 233\n",
      "Data columns (total 5 columns):\n",
      " #   Column    Non-Null Count  Dtype\n",
      "---  ------    --------------  -----\n",
      " 0   Column#0  234 non-null    int64\n",
      " 1   Column#1  234 non-null    int64\n",
      " 2   Column#2  234 non-null    int64\n",
      " 3   Column#3  234 non-null    int64\n",
      " 4   Column#4  234 non-null    int64\n",
      "dtypes: int64(5)\n",
      "memory usage: 9.3 KB\n"
     ]
    }
   ],
   "source": [
    "df.info()"
   ]
  },
  {
   "cell_type": "markdown",
   "metadata": {},
   "source": [
    "### Method 3: df.__len__\n",
    "\n",
    "df.``__len__`` will call len(df.index). It's quick and easy, but takes a few more characters to type which is why we don't like it."
   ]
  },
  {
   "cell_type": "code",
   "execution_count": 5,
   "metadata": {
    "scrolled": true
   },
   "outputs": [
    {
     "data": {
      "text/plain": [
       "234"
      ]
     },
     "execution_count": 5,
     "metadata": {},
     "output_type": "execute_result"
    }
   ],
   "source": [
    "df.__len__()"
   ]
  },
  {
   "cell_type": "markdown",
   "metadata": {},
   "source": [
    "### Method 4: df.shape[0]\n",
    "\n",
    "Next is df.shape which will return a tuple with the 1) row count and 2) column count of your data. Make sure to pull the row count via '[0]' on your shape."
   ]
  },
  {
   "cell_type": "code",
   "execution_count": 6,
   "metadata": {
    "scrolled": true
   },
   "outputs": [
    {
     "name": "stdout",
     "output_type": "stream",
     "text": [
      "(234, 5)\n",
      "\n",
      "234\n"
     ]
    }
   ],
   "source": [
    "print (df.shape)\n",
    "print ()\n",
    "print (df.shape[0])"
   ]
  },
  {
   "cell_type": "markdown",
   "metadata": {},
   "source": [
    "### Method 5: df.count()\n",
    "\n",
    "Next is df.count() which will count the number of *non-na* values within each of your columns. You'll need to interpret the data that is returned. Be careful, your data may contain NAs and output misleading results."
   ]
  },
  {
   "cell_type": "code",
   "execution_count": 7,
   "metadata": {
    "scrolled": false
   },
   "outputs": [
    {
     "data": {
      "text/plain": [
       "Column#0    234\n",
       "Column#1    234\n",
       "Column#2    234\n",
       "Column#3    234\n",
       "Column#4    234\n",
       "dtype: int64"
      ]
     },
     "execution_count": 7,
     "metadata": {},
     "output_type": "execute_result"
    }
   ],
   "source": [
    "df.count()"
   ]
  },
  {
   "cell_type": "markdown",
   "metadata": {},
   "source": [
    "### Method 6: len(df.axes[0])\n",
    "\n",
    "Last up is len(df.axes[0]). This long function will return your row axis, then you must count the length of it. Let's look through it step by step.\n",
    "\n",
    "1. Return both axis (rows/columns)\n",
    "2. Pull our the rows\n",
    "3. Count the length"
   ]
  },
  {
   "cell_type": "code",
   "execution_count": 8,
   "metadata": {
    "scrolled": false
   },
   "outputs": [
    {
     "data": {
      "text/plain": [
       "[RangeIndex(start=0, stop=234, step=1),\n",
       " Index(['Column#0', 'Column#1', 'Column#2', 'Column#3', 'Column#4'], dtype='object')]"
      ]
     },
     "execution_count": 8,
     "metadata": {},
     "output_type": "execute_result"
    }
   ],
   "source": [
    "df.axes"
   ]
  },
  {
   "cell_type": "code",
   "execution_count": 9,
   "metadata": {},
   "outputs": [
    {
     "data": {
      "text/plain": [
       "RangeIndex(start=0, stop=234, step=1)"
      ]
     },
     "execution_count": 9,
     "metadata": {},
     "output_type": "execute_result"
    }
   ],
   "source": [
    "df.axes[0]"
   ]
  },
  {
   "cell_type": "code",
   "execution_count": 10,
   "metadata": {},
   "outputs": [
    {
     "data": {
      "text/plain": [
       "234"
      ]
     },
     "execution_count": 10,
     "metadata": {},
     "output_type": "execute_result"
    }
   ],
   "source": [
    "len(df.axes[0])"
   ]
  }
 ],
 "metadata": {
  "kernelspec": {
   "display_name": "Python 3",
   "language": "python",
   "name": "python3"
  },
  "language_info": {
   "codemirror_mode": {
    "name": "ipython",
    "version": 3
   },
   "file_extension": ".py",
   "mimetype": "text/x-python",
   "name": "python",
   "nbconvert_exporter": "python",
   "pygments_lexer": "ipython3",
   "version": "3.7.6"
  }
 },
 "nbformat": 4,
 "nbformat_minor": 4
}
