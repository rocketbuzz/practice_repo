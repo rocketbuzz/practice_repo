{
 "cells": [
  {
   "cell_type": "code",
   "execution_count": 73,
   "metadata": {},
   "outputs": [],
   "source": [
    "import pandas as pd\n",
    "import requests\n",
    "import io\n",
    "import numpy as np"
   ]
  },
  {
   "cell_type": "code",
   "execution_count": 19,
   "metadata": {},
   "outputs": [],
   "source": [
    "# Get the location of your CSV\n",
    "url=\"https://www.namejet.com/download/10-08-2020.txt\"\n",
    "\n",
    "# Download and light feature engineering\n",
    "s=requests.get(url).content\n",
    "df=pd.read_csv(io.StringIO(s.decode('utf-8')), header=None)\n",
    "df.columns = ['root_domain']"
   ]
  },
  {
   "cell_type": "code",
   "execution_count": 20,
   "metadata": {},
   "outputs": [
    {
     "data": {
      "text/html": [
       "<div>\n",
       "<style scoped>\n",
       "    .dataframe tbody tr th:only-of-type {\n",
       "        vertical-align: middle;\n",
       "    }\n",
       "\n",
       "    .dataframe tbody tr th {\n",
       "        vertical-align: top;\n",
       "    }\n",
       "\n",
       "    .dataframe thead th {\n",
       "        text-align: right;\n",
       "    }\n",
       "</style>\n",
       "<table border=\"1\" class=\"dataframe\">\n",
       "  <thead>\n",
       "    <tr style=\"text-align: right;\">\n",
       "      <th></th>\n",
       "      <th>root_domain</th>\n",
       "    </tr>\n",
       "  </thead>\n",
       "  <tbody>\n",
       "    <tr>\n",
       "      <th>0</th>\n",
       "      <td>0-search.net</td>\n",
       "    </tr>\n",
       "    <tr>\n",
       "      <th>1</th>\n",
       "      <td>00000dd.com</td>\n",
       "    </tr>\n",
       "    <tr>\n",
       "      <th>2</th>\n",
       "      <td>0000359.com</td>\n",
       "    </tr>\n",
       "    <tr>\n",
       "      <th>3</th>\n",
       "      <td>0000592.com</td>\n",
       "    </tr>\n",
       "    <tr>\n",
       "      <th>4</th>\n",
       "      <td>0000598.com</td>\n",
       "    </tr>\n",
       "  </tbody>\n",
       "</table>\n",
       "</div>"
      ],
      "text/plain": [
       "    root_domain\n",
       "0  0-search.net\n",
       "1   00000dd.com\n",
       "2   0000359.com\n",
       "3   0000592.com\n",
       "4   0000598.com"
      ]
     },
     "execution_count": 20,
     "metadata": {},
     "output_type": "execute_result"
    }
   ],
   "source": [
    "# View Data\n",
    "df.head()"
   ]
  },
  {
   "cell_type": "code",
   "execution_count": 21,
   "metadata": {},
   "outputs": [
    {
     "data": {
      "text/plain": [
       "com     83874\n",
       "net      9747\n",
       "info     4348\n",
       "org      4327\n",
       "cc       1400\n",
       "biz       744\n",
       "tv        169\n",
       "Name: tld, dtype: int64"
      ]
     },
     "execution_count": 21,
     "metadata": {},
     "output_type": "execute_result"
    }
   ],
   "source": [
    "# Get the value counts for the top level domains\n",
    "df['tld'] = df['root_domain'].apply(lambda x: x.split(\".\")[1])\n",
    "df['tld'].value_counts()"
   ]
  },
  {
   "cell_type": "code",
   "execution_count": 29,
   "metadata": {},
   "outputs": [],
   "source": [
    "# Get the length of the domain name\n",
    "df['domain'] = df['root_domain'].apply(lambda x: x.split(\".\")[0])\n",
    "df['domain_length'] = df['domain'].str.len()"
   ]
  },
  {
   "cell_type": "code",
   "execution_count": 54,
   "metadata": {},
   "outputs": [],
   "source": [
    "# Create flag to see if there are punctuation marks\n",
    "punctuation = [\"-\", \"*\", \".\"]\n",
    "df['puct'] = df['domain'].apply(lambda x: any(char in x for char in punctuation))"
   ]
  },
  {
   "cell_type": "code",
   "execution_count": 56,
   "metadata": {},
   "outputs": [],
   "source": [
    "# Create flag to see if there are numbers\n",
    "number_list = [\"0\", \"1\", \"2\", \"3\", \"4\", \"5\", \"6\", \"7\", \"8\", \"9\"]\n",
    "df['num'] = df['domain'].apply(lambda x: any(char in x for char in number_list))"
   ]
  },
  {
   "cell_type": "code",
   "execution_count": 98,
   "metadata": {},
   "outputs": [],
   "source": [
    "# Create domain score\n",
    "# tld = .com is good\n",
    "# domain length, shorter is better\n",
    "# No puctuation\n",
    "# No numbers\n",
    "\n",
    "tld_dict_penalty = {\n",
    "    'com'   :  .00,\n",
    "    'net'   :  .15,\n",
    "    'info'  :  .25,\n",
    "    'org'   :  .06,\n",
    "    'cc'    :  .38,\n",
    "    'biz'   :  .46,\n",
    "    'tv'    :  .29,\n",
    "}\n",
    "\n",
    "def score(row):\n",
    "    score = 1\n",
    "    \n",
    "    # TLDs\n",
    "    score = score - tld_dict_penalty[row['tld']]\n",
    "    \n",
    "    # Legnths\n",
    "    score = score - (np.max(row['domain_length']/20, 0)**1.5)\n",
    "    \n",
    "    # Puncts\n",
    "    if row['puct']:\n",
    "        score = score - .3\n",
    "        \n",
    "    # Numbers\n",
    "    if row['num']:\n",
    "        score = score - .2\n",
    "    \n",
    "    score = np.min([score, 1])\n",
    "    score = np.max([score, 0])\n",
    "    \n",
    "    return score"
   ]
  },
  {
   "cell_type": "code",
   "execution_count": 99,
   "metadata": {},
   "outputs": [],
   "source": [
    "# Create a new column with your score\n",
    "df['score'] = df.apply(score, axis=1)"
   ]
  },
  {
   "cell_type": "code",
   "execution_count": 102,
   "metadata": {},
   "outputs": [
    {
     "data": {
      "text/html": [
       "<div>\n",
       "<style scoped>\n",
       "    .dataframe tbody tr th:only-of-type {\n",
       "        vertical-align: middle;\n",
       "    }\n",
       "\n",
       "    .dataframe tbody tr th {\n",
       "        vertical-align: top;\n",
       "    }\n",
       "\n",
       "    .dataframe thead th {\n",
       "        text-align: right;\n",
       "    }\n",
       "</style>\n",
       "<table border=\"1\" class=\"dataframe\">\n",
       "  <thead>\n",
       "    <tr style=\"text-align: right;\">\n",
       "      <th></th>\n",
       "      <th>root_domain</th>\n",
       "      <th>tld</th>\n",
       "      <th>domain</th>\n",
       "      <th>domain_length</th>\n",
       "      <th>puct</th>\n",
       "      <th>num</th>\n",
       "      <th>score</th>\n",
       "    </tr>\n",
       "  </thead>\n",
       "  <tbody>\n",
       "    <tr>\n",
       "      <th>48300</th>\n",
       "      <td>jeiv.com</td>\n",
       "      <td>com</td>\n",
       "      <td>jeiv</td>\n",
       "      <td>4</td>\n",
       "      <td>False</td>\n",
       "      <td>False</td>\n",
       "      <td>0.910557</td>\n",
       "    </tr>\n",
       "    <tr>\n",
       "      <th>103426</th>\n",
       "      <td>zffs.com</td>\n",
       "      <td>com</td>\n",
       "      <td>zffs</td>\n",
       "      <td>4</td>\n",
       "      <td>False</td>\n",
       "      <td>False</td>\n",
       "      <td>0.910557</td>\n",
       "    </tr>\n",
       "    <tr>\n",
       "      <th>69946</th>\n",
       "      <td>pfkn.com</td>\n",
       "      <td>com</td>\n",
       "      <td>pfkn</td>\n",
       "      <td>4</td>\n",
       "      <td>False</td>\n",
       "      <td>False</td>\n",
       "      <td>0.910557</td>\n",
       "    </tr>\n",
       "    <tr>\n",
       "      <th>69945</th>\n",
       "      <td>pfkd.com</td>\n",
       "      <td>com</td>\n",
       "      <td>pfkd</td>\n",
       "      <td>4</td>\n",
       "      <td>False</td>\n",
       "      <td>False</td>\n",
       "      <td>0.910557</td>\n",
       "    </tr>\n",
       "    <tr>\n",
       "      <th>73615</th>\n",
       "      <td>qriz.com</td>\n",
       "      <td>com</td>\n",
       "      <td>qriz</td>\n",
       "      <td>4</td>\n",
       "      <td>False</td>\n",
       "      <td>False</td>\n",
       "      <td>0.910557</td>\n",
       "    </tr>\n",
       "    <tr>\n",
       "      <th>17714</th>\n",
       "      <td>bzrq.com</td>\n",
       "      <td>com</td>\n",
       "      <td>bzrq</td>\n",
       "      <td>4</td>\n",
       "      <td>False</td>\n",
       "      <td>False</td>\n",
       "      <td>0.910557</td>\n",
       "    </tr>\n",
       "    <tr>\n",
       "      <th>22181</th>\n",
       "      <td>cnot.com</td>\n",
       "      <td>com</td>\n",
       "      <td>cnot</td>\n",
       "      <td>4</td>\n",
       "      <td>False</td>\n",
       "      <td>False</td>\n",
       "      <td>0.910557</td>\n",
       "    </tr>\n",
       "    <tr>\n",
       "      <th>93296</th>\n",
       "      <td>urfvg.com</td>\n",
       "      <td>com</td>\n",
       "      <td>urfvg</td>\n",
       "      <td>5</td>\n",
       "      <td>False</td>\n",
       "      <td>False</td>\n",
       "      <td>0.875000</td>\n",
       "    </tr>\n",
       "    <tr>\n",
       "      <th>45098</th>\n",
       "      <td>icpyl.com</td>\n",
       "      <td>com</td>\n",
       "      <td>icpyl</td>\n",
       "      <td>5</td>\n",
       "      <td>False</td>\n",
       "      <td>False</td>\n",
       "      <td>0.875000</td>\n",
       "    </tr>\n",
       "    <tr>\n",
       "      <th>45108</th>\n",
       "      <td>icuhp.com</td>\n",
       "      <td>com</td>\n",
       "      <td>icuhp</td>\n",
       "      <td>5</td>\n",
       "      <td>False</td>\n",
       "      <td>False</td>\n",
       "      <td>0.875000</td>\n",
       "    </tr>\n",
       "  </tbody>\n",
       "</table>\n",
       "</div>"
      ],
      "text/plain": [
       "       root_domain  tld domain  domain_length   puct    num     score\n",
       "48300     jeiv.com  com   jeiv              4  False  False  0.910557\n",
       "103426    zffs.com  com   zffs              4  False  False  0.910557\n",
       "69946     pfkn.com  com   pfkn              4  False  False  0.910557\n",
       "69945     pfkd.com  com   pfkd              4  False  False  0.910557\n",
       "73615     qriz.com  com   qriz              4  False  False  0.910557\n",
       "17714     bzrq.com  com   bzrq              4  False  False  0.910557\n",
       "22181     cnot.com  com   cnot              4  False  False  0.910557\n",
       "93296    urfvg.com  com  urfvg              5  False  False  0.875000\n",
       "45098    icpyl.com  com  icpyl              5  False  False  0.875000\n",
       "45108    icuhp.com  com  icuhp              5  False  False  0.875000"
      ]
     },
     "execution_count": 102,
     "metadata": {},
     "output_type": "execute_result"
    }
   ],
   "source": [
    "# View your scores\n",
    "df.sort_values(by='score', ascending=False).head(10)"
   ]
  }
 ],
 "metadata": {
  "kernelspec": {
   "display_name": "Python 3",
   "language": "python",
   "name": "python3"
  },
  "language_info": {
   "codemirror_mode": {
    "name": "ipython",
    "version": 3
   },
   "file_extension": ".py",
   "mimetype": "text/x-python",
   "name": "python",
   "nbconvert_exporter": "python",
   "pygments_lexer": "ipython3",
   "version": "3.7.6"
  }
 },
 "nbformat": 4,
 "nbformat_minor": 4
}
